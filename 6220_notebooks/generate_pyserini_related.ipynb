{
 "cells": [
  {
   "cell_type": "code",
   "execution_count": 4,
   "metadata": {
    "collapsed": true
   },
   "outputs": [],
   "source": [
    "import json\n",
    "import csv\n",
    "import jsonlines\n",
    "def load_passage_tsv(tsv_path: str, text_first = True):\n",
    "    \"\"\"\n",
    "    load the tsv of a passage file\n",
    "    \"\"\"\n",
    "    doc_lookup_dict = {}\n",
    "    with open(tsv_path, \"r\", 2 ** 20) as f:\n",
    "        next(f)\n",
    "        f = csv.reader(f, delimiter='\\t', quotechar='\"')\n",
    "        f = (l for l in f if len(l) == 3)\n",
    "        n = 1\n",
    "        for i, text, title in tqdm(f):\n",
    "            if text == title:\n",
    "                continue\n",
    "            i = int(i)\n",
    "\n",
    "            # assert i==n, f\"i=={i}, n=={n}\"\n",
    "            # n+=1\n",
    "            if not text_first:\n",
    "                text, title = title, text\n",
    "            doc_lookup_dict[i] = {\n",
    "                'text': text,\n",
    "                'title': title\n",
    "            }\n",
    "\n",
    "    print(\"Processed total number of docs {}\".format(n))\n",
    "    return doc_lookup_dict\n",
    "import os\n",
    "import csv\n",
    "from tqdm import tqdm\n",
    "import json"
   ]
  },
  {
   "cell_type": "code",
   "execution_count": 5,
   "outputs": [
    {
     "name": "stderr",
     "output_type": "stream",
     "text": [
      "21015324it [03:05, 113215.16it/s]"
     ]
    },
    {
     "name": "stdout",
     "output_type": "stream",
     "text": [
      "Processed total number of docs 1\n"
     ]
    },
    {
     "name": "stderr",
     "output_type": "stream",
     "text": [
      "\n"
     ]
    }
   ],
   "source": [
    "doc_lookup_dict = load_passage_tsv(os.path.join(\"/mnt/cache/zhuty/SEAL_data/dataset\", \"psgs_w100.tsv\"))\n"
   ],
   "metadata": {
    "collapsed": false
   }
  },
  {
   "cell_type": "code",
   "execution_count": 22,
   "outputs": [],
   "source": [
    "dump_dict = [{\"id\": passage_id, \"contents\": f\"{item['title']}\\n{item['text']}\"} for passage_id, item in doc_lookup_dict.items()]"
   ],
   "metadata": {
    "collapsed": false
   }
  },
  {
   "cell_type": "code",
   "execution_count": null,
   "outputs": [],
   "source": [],
   "metadata": {
    "collapsed": false
   }
  },
  {
   "cell_type": "code",
   "execution_count": 23,
   "outputs": [
    {
     "name": "stdout",
     "output_type": "stream",
     "text": [
      "mkdir /mnt/cache/zhuty/CS6220_data/pyserini_data/DPR_orig\n",
      "mkdir /mnt/cache/zhuty/CS6220_data/pyserini_data/DPR_orig/dense_index\n",
      "mkdir /mnt/cache/zhuty/CS6220_data/pyserini_data/DPR_orig/lucene_index\n",
      "mkdir /mnt/cache/zhuty/CS6220_data/pyserini_data/DPR_orig/data\n",
      "mkdir /mnt/cache/zhuty/CS6220_data/pyserini_data/DPR_orig/lucene_output\n",
      "mkdir /mnt/cache/zhuty/CS6220_data/pyserini_data/DPR_orig/dense_output\n"
     ]
    }
   ],
   "source": [
    "folder_name = \"DPR_orig\"\n",
    "BASE_PATH = \"/mnt/cache/zhuty/CS6220_data/pyserini_data/\"\n",
    "print(f\"mkdir {os.path.join(BASE_PATH, folder_name)}\")\n",
    "for name in ['dense_index', 'lucene_index', 'data','lucene_output', 'dense_output']:\n",
    "    print(f\"mkdir {os.path.join(BASE_PATH, folder_name, name)}\")"
   ],
   "metadata": {
    "collapsed": false
   }
  },
  {
   "cell_type": "code",
   "execution_count": 24,
   "outputs": [],
   "source": [
    "import jsonlines"
   ],
   "metadata": {
    "collapsed": false
   }
  },
  {
   "cell_type": "code",
   "execution_count": 25,
   "outputs": [],
   "source": [
    "data_path = os.path.join(BASE_PATH, folder_name, \"data\", \"documents.jsonl\")\n",
    "dump_dict = [{\"id\": passage_id, \"contents\": f\"{item['title']}\\n{item['text']}\"} for passage_id, item in doc_lookup_dict.items()]\n",
    "with jsonlines.open(data_path, 'w') as writer:\n",
    "    writer.write_all(dump_dict)"
   ],
   "metadata": {
    "collapsed": false
   }
  },
  {
   "cell_type": "code",
   "execution_count": null,
   "outputs": [],
   "source": [
    "folder_path = os.path.join(BASE_PATH, folder_name)\n",
    "print(f\"\"\"\n",
    "bash scripts_general/construct_lucene_index.sh {folder_path}\n",
    "bash scripts_general/evaluate_bm25.sh {folder_path}\n",
    "bash scripts_general/evaluate_dense.sh {folder_path}\n",
    "\n",
    "\"\"\")\n",
    "\n",
    "print(\"================== index\")\n",
    "for i in range(8):\n",
    "    print(f\"conda activate pyserini-dev; bash scripts_general/construct_dense_index_shard.sh {folder_path} {i}\")\n",
    "print(\"===== combine index\")\n",
    "print(f\"python -m pyserini.index.merge_faiss_indexes --prefix {os.path.join(folder_path, 'dense_index', 'index_shard_')} --shard-num 8\")"
   ],
   "metadata": {
    "collapsed": false,
    "pycharm": {
     "is_executing": true
    }
   }
  },
  {
   "cell_type": "code",
   "execution_count": 29,
   "outputs": [
    {
     "name": "stdout",
     "output_type": "stream",
     "text": [
      "python -m pyserini.index.merge_faiss_indexes --prefix /mnt/cache/zhuty/CS6220_data/pyserini_data/DPR_orig_no_title/dense_index/index_shard_ --shard-num 8\n"
     ]
    }
   ],
   "source": [
    "print(f\"python -m pyserini.index.merge_faiss_indexes --prefix {os.path.join(BASE_PATH, 'DPR_orig_no_title', 'dense_index', 'index_shard_')} --shard-num 8\")"
   ],
   "metadata": {
    "collapsed": false
   }
  },
  {
   "cell_type": "markdown",
   "source": [
    "#### Orig without title"
   ],
   "metadata": {
    "collapsed": false
   }
  },
  {
   "cell_type": "code",
   "execution_count": 6,
   "outputs": [
    {
     "name": "stdout",
     "output_type": "stream",
     "text": [
      "mkdir /mnt/cache/zhuty/CS6220_data/pyserini_data/DPR_orig_no_title\n",
      "mkdir /mnt/cache/zhuty/CS6220_data/pyserini_data/DPR_orig_no_title/dense_index\n",
      "mkdir /mnt/cache/zhuty/CS6220_data/pyserini_data/DPR_orig_no_title/lucene_index\n",
      "mkdir /mnt/cache/zhuty/CS6220_data/pyserini_data/DPR_orig_no_title/data\n",
      "mkdir /mnt/cache/zhuty/CS6220_data/pyserini_data/DPR_orig_no_title/lucene_output\n",
      "mkdir /mnt/cache/zhuty/CS6220_data/pyserini_data/DPR_orig_no_title/dense_output\n"
     ]
    }
   ],
   "source": [
    "folder_name = \"DPR_orig_no_title\"\n",
    "BASE_PATH = \"/mnt/cache/zhuty/CS6220_data/pyserini_data/\"\n",
    "print(f\"mkdir {os.path.join(BASE_PATH, folder_name)}\")\n",
    "for name in ['dense_index', 'lucene_index', 'data','lucene_output', 'dense_output']:\n",
    "    print(f\"mkdir {os.path.join(BASE_PATH, folder_name, name)}\")"
   ],
   "metadata": {
    "collapsed": false
   }
  },
  {
   "cell_type": "code",
   "execution_count": null,
   "outputs": [],
   "source": [
    "data_path = os.path.join(BASE_PATH, folder_name, \"data\", \"documents.jsonl\")\n",
    "dump_dict = [{\"id\": passage_id, \"contents\": f\"\\n {item['text']}\"} for passage_id, item in doc_lookup_dict.items()]\n",
    "with jsonlines.open(data_path, 'w') as writer:\n",
    "    writer.write_all(dump_dict)"
   ],
   "metadata": {
    "collapsed": false,
    "pycharm": {
     "is_executing": true
    }
   }
  },
  {
   "cell_type": "code",
   "execution_count": 10,
   "outputs": [
    {
     "name": "stdout",
     "output_type": "stream",
     "text": [
      "\n",
      "bash scripts_general/construct_lucene_index.sh /mnt/cache/zhuty/CS6220_data/pyserini_data/DPR_orig_no_title\n",
      "bash scripts_general/evaluate_bm25.sh /mnt/cache/zhuty/CS6220_data/pyserini_data/DPR_orig_no_title\n",
      "bash scripts_general/evaluate_dense.sh /mnt/cache/zhuty/CS6220_data/pyserini_data/DPR_orig_no_title\n",
      "\n",
      "\n",
      "================== index\n",
      "conda activate pyserini-dev; bash scripts_general/construct_dense_index_shard.sh /mnt/cache/zhuty/CS6220_data/pyserini_data/DPR_orig_no_title 0\n",
      "conda activate pyserini-dev; bash scripts_general/construct_dense_index_shard.sh /mnt/cache/zhuty/CS6220_data/pyserini_data/DPR_orig_no_title 1\n",
      "conda activate pyserini-dev; bash scripts_general/construct_dense_index_shard.sh /mnt/cache/zhuty/CS6220_data/pyserini_data/DPR_orig_no_title 2\n",
      "conda activate pyserini-dev; bash scripts_general/construct_dense_index_shard.sh /mnt/cache/zhuty/CS6220_data/pyserini_data/DPR_orig_no_title 3\n",
      "conda activate pyserini-dev; bash scripts_general/construct_dense_index_shard.sh /mnt/cache/zhuty/CS6220_data/pyserini_data/DPR_orig_no_title 4\n",
      "conda activate pyserini-dev; bash scripts_general/construct_dense_index_shard.sh /mnt/cache/zhuty/CS6220_data/pyserini_data/DPR_orig_no_title 5\n",
      "conda activate pyserini-dev; bash scripts_general/construct_dense_index_shard.sh /mnt/cache/zhuty/CS6220_data/pyserini_data/DPR_orig_no_title 6\n",
      "conda activate pyserini-dev; bash scripts_general/construct_dense_index_shard.sh /mnt/cache/zhuty/CS6220_data/pyserini_data/DPR_orig_no_title 7\n"
     ]
    }
   ],
   "source": [
    "folder_path = os.path.join(BASE_PATH, folder_name)\n",
    "print(f\"\"\"\n",
    "bash scripts_general/construct_lucene_index.sh {folder_path}\n",
    "bash scripts_general/evaluate_bm25.sh {folder_path}\n",
    "bash scripts_general/evaluate_dense.sh {folder_path}\n",
    "\n",
    "\"\"\")\n",
    "\n",
    "print(\"================== index\")\n",
    "for i in range(8):\n",
    "    print(f\"conda activate pyserini-dev; bash scripts_general/construct_dense_index_shard.sh {folder_path} {i}\")\n"
   ],
   "metadata": {
    "collapsed": false
   }
  },
  {
   "cell_type": "code",
   "execution_count": null,
   "outputs": [],
   "source": [
    "python -m pyserini.index.merge_faiss_indexes --prefix /mnt/cache/zhuty/CS6220_data/pyserini_data/DPR_orig/dense_index/index_shard_ --shard-num 8\n"
   ],
   "metadata": {
    "collapsed": false
   }
  },
  {
   "cell_type": "markdown",
   "source": [
    "#### Paragraph\n"
   ],
   "metadata": {
    "collapsed": false
   }
  },
  {
   "cell_type": "code",
   "execution_count": 25,
   "outputs": [
    {
     "name": "stderr",
     "output_type": "stream",
     "text": [
      "32774319it [03:03, 178959.83it/s]\n"
     ]
    },
    {
     "name": "stdout",
     "output_type": "stream",
     "text": [
      "Processed total number of docs 1\n"
     ]
    }
   ],
   "source": [
    "tsv_path = \"/home/aiops/zhuty/CS6220/language/paragraph_blocks_en_wiki_20181220/paragraphs.tsv\"\n",
    "doc_lookup_dict = load_passage_tsv(tsv_path, text_first=False)"
   ],
   "metadata": {
    "collapsed": false
   }
  },
  {
   "cell_type": "code",
   "execution_count": 26,
   "outputs": [
    {
     "name": "stdout",
     "output_type": "stream",
     "text": [
      "mkdir /mnt/cache/zhuty/CS6220_data/pyserini_data/paragraph\n",
      "mkdir /mnt/cache/zhuty/CS6220_data/pyserini_data/paragraph/dense_index\n",
      "mkdir /mnt/cache/zhuty/CS6220_data/pyserini_data/paragraph/lucene_index\n",
      "mkdir /mnt/cache/zhuty/CS6220_data/pyserini_data/paragraph/data\n",
      "mkdir /mnt/cache/zhuty/CS6220_data/pyserini_data/paragraph/lucene_output\n",
      "mkdir /mnt/cache/zhuty/CS6220_data/pyserini_data/paragraph/dense_output\n"
     ]
    }
   ],
   "source": [
    "folder_name = \"paragraph\"\n",
    "BASE_PATH = \"/mnt/cache/zhuty/CS6220_data/pyserini_data/\"\n",
    "print(f\"mkdir {os.path.join(BASE_PATH, folder_name)}\")\n",
    "for name in ['dense_index', 'lucene_index', 'data','lucene_output', 'dense_output']:\n",
    "    print(f\"mkdir {os.path.join(BASE_PATH, folder_name, name)}\")"
   ],
   "metadata": {
    "collapsed": false
   }
  },
  {
   "cell_type": "code",
   "execution_count": 27,
   "outputs": [],
   "source": [
    "data_path = os.path.join(BASE_PATH, folder_name, \"data\", \"documents.jsonl\")\n",
    "dump_dict = [{\"id\": passage_id, \"contents\": f\"{item['title']}\\n{item['text']}\"} for passage_id, item in doc_lookup_dict.items()]\n",
    "with jsonlines.open(data_path, 'w') as writer:\n",
    "    writer.write_all(dump_dict)"
   ],
   "metadata": {
    "collapsed": false
   }
  },
  {
   "cell_type": "code",
   "execution_count": 20,
   "outputs": [
    {
     "name": "stdout",
     "output_type": "stream",
     "text": [
      "\n",
      "bash scripts_general/construct_lucene_index.sh /mnt/cache/zhuty/CS6220_data/pyserini_data/paragraph\n",
      "bash scripts_general/evaluate_bm25.sh /mnt/cache/zhuty/CS6220_data/pyserini_data/paragraph\n",
      "bash scripts_general/evaluate_dense.sh /mnt/cache/zhuty/CS6220_data/pyserini_data/paragraph\n",
      "\n",
      "\n",
      "================== index\n",
      "conda activate pyserini-dev; bash scripts_general/construct_dense_index_shard.sh /mnt/cache/zhuty/CS6220_data/pyserini_data/paragraph 0\n",
      "conda activate pyserini-dev; bash scripts_general/construct_dense_index_shard.sh /mnt/cache/zhuty/CS6220_data/pyserini_data/paragraph 1\n",
      "conda activate pyserini-dev; bash scripts_general/construct_dense_index_shard.sh /mnt/cache/zhuty/CS6220_data/pyserini_data/paragraph 2\n",
      "conda activate pyserini-dev; bash scripts_general/construct_dense_index_shard.sh /mnt/cache/zhuty/CS6220_data/pyserini_data/paragraph 3\n",
      "conda activate pyserini-dev; bash scripts_general/construct_dense_index_shard.sh /mnt/cache/zhuty/CS6220_data/pyserini_data/paragraph 4\n",
      "conda activate pyserini-dev; bash scripts_general/construct_dense_index_shard.sh /mnt/cache/zhuty/CS6220_data/pyserini_data/paragraph 5\n",
      "conda activate pyserini-dev; bash scripts_general/construct_dense_index_shard.sh /mnt/cache/zhuty/CS6220_data/pyserini_data/paragraph 6\n",
      "conda activate pyserini-dev; bash scripts_general/construct_dense_index_shard.sh /mnt/cache/zhuty/CS6220_data/pyserini_data/paragraph 7\n"
     ]
    }
   ],
   "source": [
    "folder_path = os.path.join(BASE_PATH, folder_name)\n",
    "print(f\"\"\"\n",
    "bash scripts_general/construct_lucene_index.sh {folder_path}\n",
    "bash scripts_general/evaluate_bm25.sh {folder_path}\n",
    "bash scripts_general/evaluate_dense.sh {folder_path}\n",
    "\n",
    "\"\"\")\n",
    "\n",
    "print(\"================== index\")\n",
    "for i in range(8):\n",
    "    print(f\"conda activate pyserini-dev; bash scripts_general/construct_dense_index_shard.sh {folder_path} {i}\")"
   ],
   "metadata": {
    "collapsed": false
   }
  },
  {
   "cell_type": "code",
   "execution_count": null,
   "outputs": [],
   "source": [],
   "metadata": {
    "collapsed": false
   }
  },
  {
   "cell_type": "markdown",
   "source": [
    "### Paragraph no title"
   ],
   "metadata": {
    "collapsed": false
   }
  },
  {
   "cell_type": "markdown",
   "source": [],
   "metadata": {
    "collapsed": false
   }
  },
  {
   "cell_type": "code",
   "execution_count": null,
   "outputs": [
    {
     "name": "stderr",
     "output_type": "stream",
     "text": [
      "7552289it [00:42, 182778.27it/s]"
     ]
    }
   ],
   "source": [
    "tsv_path = \"/home/aiops/zhuty/CS6220/language/paragraph_blocks_en_wiki_20181220/paragraphs.tsv\"\n",
    "doc_lookup_dict = load_passage_tsv(tsv_path, text_first=False)"
   ],
   "metadata": {
    "collapsed": false,
    "pycharm": {
     "is_executing": true
    }
   }
  },
  {
   "cell_type": "code",
   "execution_count": null,
   "outputs": [],
   "source": [
    "folder_name = \"paragraph_no_title\"\n",
    "BASE_PATH = \"/mnt/cache/zhuty/CS6220_data/pyserini_data/\"\n",
    "print(f\"mkdir {os.path.join(BASE_PATH, folder_name)}\")\n",
    "for name in ['dense_index', 'lucene_index', 'data','lucene_output', 'dense_output']:\n",
    "    print(f\"mkdir {os.path.join(BASE_PATH, folder_name, name)}\")"
   ],
   "metadata": {
    "collapsed": false,
    "pycharm": {
     "is_executing": true
    }
   }
  },
  {
   "cell_type": "code",
   "execution_count": 20,
   "outputs": [
    {
     "data": {
      "text/plain": "{'text': 'He is most famous for making lyrical and artistic films within the context of popular Hindi cinema of the 1950s, and expanding its commercial conventions, starting with his 1957 film \"Pyaasa\". Several of his later works have a cult following. His movies attract full houses when re-released; especially in Germany, France and Japan.',\n 'title': 'Guru Dutt'}"
     },
     "execution_count": 20,
     "metadata": {},
     "output_type": "execute_result"
    }
   ],
   "source": [
    "doc_lookup_dict[3]"
   ],
   "metadata": {
    "collapsed": false
   }
  },
  {
   "cell_type": "code",
   "execution_count": 21,
   "outputs": [
    {
     "data": {
      "text/plain": "32774319"
     },
     "execution_count": 21,
     "metadata": {},
     "output_type": "execute_result"
    }
   ],
   "source": [
    "len(doc_lookup_dict)"
   ],
   "metadata": {
    "collapsed": false
   }
  },
  {
   "cell_type": "code",
   "execution_count": 23,
   "outputs": [],
   "source": [
    "data_path = os.path.join(BASE_PATH, folder_name, \"data\", \"documents.jsonl\")\n",
    "dump_dict = [{\"id\": passage_id, \"contents\": f\"\\n{item['text']}\"} for passage_id, item in doc_lookup_dict.items()]\n",
    "with jsonlines.open(data_path, 'w') as writer:\n",
    "    writer.write_all(dump_dict)"
   ],
   "metadata": {
    "collapsed": false
   }
  },
  {
   "cell_type": "code",
   "execution_count": 24,
   "outputs": [
    {
     "name": "stdout",
     "output_type": "stream",
     "text": [
      "finished\n"
     ]
    }
   ],
   "source": [
    "print(\"finished\")"
   ],
   "metadata": {
    "collapsed": false
   }
  },
  {
   "cell_type": "code",
   "execution_count": 11,
   "outputs": [
    {
     "name": "stdout",
     "output_type": "stream",
     "text": [
      "\n",
      "bash scripts_general/construct_lucene_index.sh /mnt/cache/zhuty/CS6220_data/pyserini_data/paragraph_no_title\n",
      "bash scripts_general/evaluate_bm25.sh /mnt/cache/zhuty/CS6220_data/pyserini_data/paragraph_no_title\n",
      "bash scripts_general/evaluate_dense.sh /mnt/cache/zhuty/CS6220_data/pyserini_data/paragraph_no_title\n",
      "\n",
      "\n",
      "================== index\n",
      "conda activate pyserini-dev; bash scripts_general/construct_dense_index_shard.sh /mnt/cache/zhuty/CS6220_data/pyserini_data/paragraph_no_title 0\n",
      "conda activate pyserini-dev; bash scripts_general/construct_dense_index_shard.sh /mnt/cache/zhuty/CS6220_data/pyserini_data/paragraph_no_title 1\n",
      "conda activate pyserini-dev; bash scripts_general/construct_dense_index_shard.sh /mnt/cache/zhuty/CS6220_data/pyserini_data/paragraph_no_title 2\n",
      "conda activate pyserini-dev; bash scripts_general/construct_dense_index_shard.sh /mnt/cache/zhuty/CS6220_data/pyserini_data/paragraph_no_title 3\n",
      "conda activate pyserini-dev; bash scripts_general/construct_dense_index_shard.sh /mnt/cache/zhuty/CS6220_data/pyserini_data/paragraph_no_title 4\n",
      "conda activate pyserini-dev; bash scripts_general/construct_dense_index_shard.sh /mnt/cache/zhuty/CS6220_data/pyserini_data/paragraph_no_title 5\n",
      "conda activate pyserini-dev; bash scripts_general/construct_dense_index_shard.sh /mnt/cache/zhuty/CS6220_data/pyserini_data/paragraph_no_title 6\n",
      "conda activate pyserini-dev; bash scripts_general/construct_dense_index_shard.sh /mnt/cache/zhuty/CS6220_data/pyserini_data/paragraph_no_title 7\n",
      "===== combine index\n",
      "python -m pyserini.index.merge_faiss_indexes --prefix /mnt/cache/zhuty/CS6220_data/pyserini_data/paragraph_no_title/dense_index/index_shard_ --shard-num 8\n"
     ]
    }
   ],
   "source": [
    "folder_path = os.path.join(BASE_PATH, folder_name)\n",
    "print(f\"\"\"\n",
    "bash scripts_general/construct_lucene_index.sh {folder_path}\n",
    "bash scripts_general/evaluate_bm25.sh {folder_path}\n",
    "bash scripts_general/evaluate_dense.sh {folder_path}\n",
    "\n",
    "\"\"\")\n",
    "\n",
    "print(\"================== index\")\n",
    "for i in range(8):\n",
    "    print(f\"conda activate pyserini-dev; bash scripts_general/construct_dense_index_shard.sh {folder_path} {i}\")\n",
    "print(\"===== combine index\")\n",
    "print(f\"python -m pyserini.index.merge_faiss_indexes --prefix {os.path.join(folder_path, 'dense_index', 'index_shard_')} --shard-num 8\")"
   ],
   "metadata": {
    "collapsed": false
   }
  },
  {
   "cell_type": "code",
   "execution_count": null,
   "outputs": [],
   "source": [
    "bash scripts_general/construct_dense_index_shard.sh /home/aiops/zhuty/CS6220_data/pyserini_data/sentence/data 3"
   ],
   "metadata": {
    "collapsed": false
   }
  },
  {
   "cell_type": "markdown",
   "source": [
    "#### Sentence"
   ],
   "metadata": {
    "collapsed": false
   }
  },
  {
   "cell_type": "code",
   "execution_count": 30,
   "outputs": [
    {
     "name": "stderr",
     "output_type": "stream",
     "text": [
      "32774319it [03:03, 178170.64it/s]\n"
     ]
    },
    {
     "name": "stdout",
     "output_type": "stream",
     "text": [
      "Processed total number of docs 1\n"
     ]
    }
   ],
   "source": [
    "tsv_path = \"/home/aiops/zhuty/CS6220/language/paragraph_blocks_en_wiki_20181220/paragraphs.tsv\"\n",
    "doc_lookup_dict = load_passage_tsv(tsv_path, text_first=False)"
   ],
   "metadata": {
    "collapsed": false
   }
  },
  {
   "cell_type": "code",
   "execution_count": 31,
   "outputs": [
    {
     "name": "stderr",
     "output_type": "stream",
     "text": [
      "[nltk_data] Downloading package punkt to /tmp/tmp1tmzp71t...\n",
      "[nltk_data]   Unzipping tokenizers/punkt.zip.\n"
     ]
    }
   ],
   "source": [
    "import tempfile\n",
    "\n",
    "import nltk\n",
    "def get_sentence_splitter():\n",
    "  temp_dir = tempfile.mkdtemp()\n",
    "  nltk.download(\"punkt\", download_dir=temp_dir)\n",
    "  return nltk.data.load(\n",
    "      os.path.join(temp_dir, \"tokenizers/punkt/english.pickle\"))\n",
    "sentence_spliter = get_sentence_splitter()"
   ],
   "metadata": {
    "collapsed": false
   }
  },
  {
   "cell_type": "code",
   "execution_count": 32,
   "outputs": [
    {
     "name": "stdout",
     "output_type": "stream",
     "text": [
      "mkdir /mnt/cache/zhuty/CS6220_data/pyserini_data/sentence\n",
      "mkdir /mnt/cache/zhuty/CS6220_data/pyserini_data/sentence/dense_index\n",
      "mkdir /mnt/cache/zhuty/CS6220_data/pyserini_data/sentence/lucene_index\n",
      "mkdir /mnt/cache/zhuty/CS6220_data/pyserini_data/sentence/data\n",
      "mkdir /mnt/cache/zhuty/CS6220_data/pyserini_data/sentence/lucene_output\n",
      "mkdir /mnt/cache/zhuty/CS6220_data/pyserini_data/sentence/dense_output\n"
     ]
    }
   ],
   "source": [
    "folder_name = \"sentence\"\n",
    "BASE_PATH = \"/mnt/cache/zhuty/CS6220_data/pyserini_data/\"\n",
    "print(f\"mkdir {os.path.join(BASE_PATH, folder_name)}\")\n",
    "for name in ['dense_index', 'lucene_index', 'data','lucene_output', 'dense_output']:\n",
    "    print(f\"mkdir {os.path.join(BASE_PATH, folder_name, name)}\")"
   ],
   "metadata": {
    "collapsed": false
   }
  },
  {
   "cell_type": "code",
   "execution_count": 34,
   "outputs": [
    {
     "name": "stderr",
     "output_type": "stream",
     "text": [
      "100%|██████████████████████████████████████████████████████████████████████████████████████████████████████████████████████████████████████████████████████████████████████████████████████████████████| 32774319/32774319 [25:07<00:00, 21741.30it/s]\n"
     ]
    }
   ],
   "source": [
    "dump_dict = []\n",
    "for passage_id, item in tqdm(doc_lookup_dict.items()):\n",
    "    curr_sent_idx = 0\n",
    "    for sentence in sentence_spliter.tokenize(item['text']):\n",
    "        dump_dict.append({\"id\": f\"{passage_id}_{curr_sent_idx}\", \"contents\": f\"{item['title']}\\n{sentence}\"} )\n",
    "        curr_sent_idx += 1"
   ],
   "metadata": {
    "collapsed": false
   }
  },
  {
   "cell_type": "code",
   "execution_count": 39,
   "outputs": [
    {
     "data": {
      "text/plain": "98367012"
     },
     "execution_count": 39,
     "metadata": {},
     "output_type": "execute_result"
    }
   ],
   "source": [
    "len(dump_dict)"
   ],
   "metadata": {
    "collapsed": false
   }
  },
  {
   "cell_type": "code",
   "execution_count": null,
   "outputs": [],
   "source": [
    "dump_dict[0]"
   ],
   "metadata": {
    "collapsed": false
   }
  },
  {
   "cell_type": "code",
   "execution_count": 42,
   "outputs": [
    {
     "data": {
      "text/plain": "{'id': '87_1',\n 'contents': 'Hardware overlay\\nTypically one of these output devices has to be declared the \"primary\" device, and only the primary device can display hardware overlays.'}"
     },
     "execution_count": 42,
     "metadata": {},
     "output_type": "execute_result"
    }
   ],
   "source": [
    "dump_dict[300]"
   ],
   "metadata": {
    "collapsed": false
   }
  },
  {
   "cell_type": "code",
   "execution_count": 2,
   "outputs": [],
   "source": [
    "BASE_PATH='/home/aiops/zhuty/CS6220_data/pyserini_data'"
   ],
   "metadata": {
    "collapsed": false
   }
  },
  {
   "cell_type": "code",
   "execution_count": 48,
   "outputs": [],
   "source": [
    "data_path = os.path.join(BASE_PATH, folder_name, \"data\", \"documents.jsonl\")\n",
    "with jsonlines.open(data_path, 'w') as writer:\n",
    "    writer.write_all(dump_dict)"
   ],
   "metadata": {
    "collapsed": false
   }
  },
  {
   "cell_type": "code",
   "execution_count": 49,
   "outputs": [
    {
     "data": {
      "text/plain": "{'id': '38269407_2',\n 'contents': 'Algorithmic Number Theory Symposium\\nThe proceedings of ANTS XI and ANTS XII were published as a special issue of the London Mathematical Society Journal of Computation and Mathematics.'}"
     },
     "execution_count": 49,
     "metadata": {},
     "output_type": "execute_result"
    }
   ],
   "source": [
    "dump_dict[-1]"
   ],
   "metadata": {
    "collapsed": false
   }
  },
  {
   "cell_type": "code",
   "execution_count": null,
   "outputs": [],
   "source": [
    "dump_dict[0]"
   ],
   "metadata": {
    "collapsed": false
   }
  },
  {
   "cell_type": "code",
   "execution_count": 4,
   "outputs": [],
   "source": [
    "\n",
    "import os"
   ],
   "metadata": {
    "collapsed": false
   }
  },
  {
   "cell_type": "code",
   "execution_count": 8,
   "outputs": [
    {
     "name": "stdout",
     "output_type": "stream",
     "text": [
      "\n",
      "bash scripts_general/construct_lucene_index.sh /home/aiops/zhuty/CS6220_data/pyserini_data/sentence\n",
      "bash scripts_general/evaluate_bm25.sh /home/aiops/zhuty/CS6220_data/pyserini_data/sentence\n",
      "bash scripts_general/evaluate_dense.sh /home/aiops/zhuty/CS6220_data/pyserini_data/sentence\n",
      "\n",
      "\n",
      "================== index\n",
      "conda activate pyserini-dev; bash scripts_general/construct_dense_index_shard.sh /home/aiops/zhuty/CS6220_data/pyserini_data/sentence 0\n",
      "conda activate pyserini-dev; bash scripts_general/construct_dense_index_shard.sh /home/aiops/zhuty/CS6220_data/pyserini_data/sentence 1\n",
      "conda activate pyserini-dev; bash scripts_general/construct_dense_index_shard.sh /home/aiops/zhuty/CS6220_data/pyserini_data/sentence 2\n",
      "conda activate pyserini-dev; bash scripts_general/construct_dense_index_shard.sh /home/aiops/zhuty/CS6220_data/pyserini_data/sentence 3\n",
      "conda activate pyserini-dev; bash scripts_general/construct_dense_index_shard.sh /home/aiops/zhuty/CS6220_data/pyserini_data/sentence 4\n",
      "conda activate pyserini-dev; bash scripts_general/construct_dense_index_shard.sh /home/aiops/zhuty/CS6220_data/pyserini_data/sentence 5\n",
      "conda activate pyserini-dev; bash scripts_general/construct_dense_index_shard.sh /home/aiops/zhuty/CS6220_data/pyserini_data/sentence 6\n",
      "conda activate pyserini-dev; bash scripts_general/construct_dense_index_shard.sh /home/aiops/zhuty/CS6220_data/pyserini_data/sentence 7\n",
      "===== combine index\n",
      "python -m pyserini.index.merge_faiss_indexes --prefix /home/aiops/zhuty/CS6220_data/pyserini_data/sentence/dense_index/index_shard_ --shard-num 8\n"
     ]
    }
   ],
   "source": [
    "folder_name = \"sentence\"\n",
    "\n",
    "folder_path = os.path.join(BASE_PATH, folder_name)\n",
    "\n",
    "\n",
    "print(f\"\"\"\n",
    "bash scripts_general/construct_lucene_index.sh {folder_path}\n",
    "bash scripts_general/evaluate_bm25.sh {folder_path}\n",
    "bash scripts_general/evaluate_dense.sh {folder_path}\n",
    "\n",
    "\"\"\")\n",
    "\n",
    "print(\"================== index\")\n",
    "for i in range(8):\n",
    "    print(f\"conda activate pyserini-dev; bash scripts_general/construct_dense_index_shard.sh {folder_path} {i}\")\n",
    "print(\"===== combine index\")\n",
    "print(f\"python -m pyserini.index.merge_faiss_indexes --prefix {os.path.join(folder_path, 'dense_index', 'index_shard_')} --shard-num 8\")"
   ],
   "metadata": {
    "collapsed": false
   }
  },
  {
   "cell_type": "code",
   "execution_count": null,
   "outputs": [],
   "source": [],
   "metadata": {
    "collapsed": false
   }
  },
  {
   "cell_type": "markdown",
   "source": [
    "### Sentence no title"
   ],
   "metadata": {
    "collapsed": false
   }
  },
  {
   "cell_type": "code",
   "execution_count": 10,
   "outputs": [],
   "source": [
    "import json\n",
    "import csv\n",
    "import jsonlines\n",
    "def load_passage_tsv(tsv_path: str, text_first = True):\n",
    "    \"\"\"\n",
    "    load the tsv of a passage file\n",
    "    \"\"\"\n",
    "    doc_lookup_dict = {}\n",
    "    with open(tsv_path, \"r\", 2 ** 20) as f:\n",
    "        next(f)\n",
    "        f = csv.reader(f, delimiter='\\t', quotechar='\"')\n",
    "        f = (l for l in f if len(l) == 3)\n",
    "        n = 1\n",
    "        for i, text, title in tqdm(f):\n",
    "            if text == title:\n",
    "                continue\n",
    "            i = int(i)\n",
    "\n",
    "            # assert i==n, f\"i=={i}, n=={n}\"\n",
    "            # n+=1\n",
    "            if not text_first:\n",
    "                text, title = title, text\n",
    "            doc_lookup_dict[i] = {\n",
    "                'text': text,\n",
    "                'title': title\n",
    "            }\n",
    "\n",
    "    print(\"Processed total number of docs {}\".format(n))\n",
    "    return doc_lookup_dict\n",
    "import os\n",
    "import csv\n",
    "from tqdm import tqdm\n",
    "import json"
   ],
   "metadata": {
    "collapsed": false
   }
  },
  {
   "cell_type": "code",
   "execution_count": 11,
   "outputs": [
    {
     "name": "stderr",
     "output_type": "stream",
     "text": [
      "32774319it [03:07, 174942.23it/s]"
     ]
    },
    {
     "name": "stdout",
     "output_type": "stream",
     "text": [
      "Processed total number of docs 1\n"
     ]
    },
    {
     "name": "stderr",
     "output_type": "stream",
     "text": [
      "\n"
     ]
    }
   ],
   "source": [
    "tsv_path = \"/home/aiops/zhuty/CS6220/language/paragraph_blocks_en_wiki_20181220/paragraphs.tsv\"\n",
    "doc_lookup_dict = load_passage_tsv(tsv_path, text_first=False)"
   ],
   "metadata": {
    "collapsed": false
   }
  },
  {
   "cell_type": "code",
   "execution_count": 15,
   "outputs": [
    {
     "name": "stderr",
     "output_type": "stream",
     "text": [
      "[nltk_data] Downloading package punkt to /tmp/tmp59sbzk90...\n",
      "[nltk_data]   Unzipping tokenizers/punkt.zip.\n",
      "[nltk_data] Downloading package punkt to /tmp/tmp3dfm2x1j...\n",
      "[nltk_data]   Unzipping tokenizers/punkt.zip.\n"
     ]
    }
   ],
   "source": [
    "import tempfile\n",
    "\n",
    "import nltk\n",
    "def get_sentence_splitter():\n",
    "  temp_dir = tempfile.mkdtemp()\n",
    "  nltk.download(\"punkt\", download_dir=temp_dir)\n",
    "  return nltk.data.load(\n",
    "      os.path.join(temp_dir, \"tokenizers/punkt/english.pickle\"))\n",
    "sentence_spliter = get_sentence_splitter()"
   ],
   "metadata": {
    "collapsed": false
   }
  },
  {
   "cell_type": "code",
   "execution_count": 20,
   "outputs": [
    {
     "name": "stdout",
     "output_type": "stream",
     "text": [
      "mkdir /home/aiops/zhuty/CS6220_data/pyserini_data/sentence_no_title\n",
      "mkdir /home/aiops/zhuty/CS6220_data/pyserini_data/sentence_no_title/dense_index\n",
      "mkdir /home/aiops/zhuty/CS6220_data/pyserini_data/sentence_no_title/lucene_index\n",
      "mkdir /home/aiops/zhuty/CS6220_data/pyserini_data/sentence_no_title/data\n",
      "mkdir /home/aiops/zhuty/CS6220_data/pyserini_data/sentence_no_title/lucene_output\n",
      "mkdir /home/aiops/zhuty/CS6220_data/pyserini_data/sentence_no_title/dense_output\n"
     ]
    }
   ],
   "source": [
    "folder_name = \"sentence_no_title\"\n",
    "BASE_PATH = \"/home/aiops/zhuty/CS6220_data/pyserini_data/\"\n",
    "print(f\"mkdir {os.path.join(BASE_PATH, folder_name)}\")\n",
    "for name in ['dense_index', 'lucene_index', 'data','lucene_output', 'dense_output']:\n",
    "    print(f\"mkdir {os.path.join(BASE_PATH, folder_name, name)}\")"
   ],
   "metadata": {
    "collapsed": false
   }
  },
  {
   "cell_type": "code",
   "execution_count": 17,
   "outputs": [
    {
     "name": "stdout",
     "output_type": "stream",
     "text": [
      "\n",
      "bash scripts_general/construct_lucene_index.sh /home/aiops/zhuty/CS6220_data/pyserini_data/sentence_no_title\n",
      "bash scripts_general/evaluate_bm25.sh /home/aiops/zhuty/CS6220_data/pyserini_data/sentence_no_title\n",
      "bash scripts_general/evaluate_dense.sh /home/aiops/zhuty/CS6220_data/pyserini_data/sentence_no_title\n",
      "\n",
      "\n",
      "================== index\n",
      "conda activate pyserini-dev; bash scripts_general/construct_dense_index_shard.sh /home/aiops/zhuty/CS6220_data/pyserini_data/sentence_no_title 0\n",
      "conda activate pyserini-dev; bash scripts_general/construct_dense_index_shard.sh /home/aiops/zhuty/CS6220_data/pyserini_data/sentence_no_title 1\n",
      "conda activate pyserini-dev; bash scripts_general/construct_dense_index_shard.sh /home/aiops/zhuty/CS6220_data/pyserini_data/sentence_no_title 2\n",
      "conda activate pyserini-dev; bash scripts_general/construct_dense_index_shard.sh /home/aiops/zhuty/CS6220_data/pyserini_data/sentence_no_title 3\n",
      "conda activate pyserini-dev; bash scripts_general/construct_dense_index_shard.sh /home/aiops/zhuty/CS6220_data/pyserini_data/sentence_no_title 4\n",
      "conda activate pyserini-dev; bash scripts_general/construct_dense_index_shard.sh /home/aiops/zhuty/CS6220_data/pyserini_data/sentence_no_title 5\n",
      "conda activate pyserini-dev; bash scripts_general/construct_dense_index_shard.sh /home/aiops/zhuty/CS6220_data/pyserini_data/sentence_no_title 6\n",
      "conda activate pyserini-dev; bash scripts_general/construct_dense_index_shard.sh /home/aiops/zhuty/CS6220_data/pyserini_data/sentence_no_title 7\n",
      "===== combine index\n",
      "python -m pyserini.index.merge_faiss_indexes --prefix /home/aiops/zhuty/CS6220_data/pyserini_data/sentence_no_title/dense_index/index_shard_ --shard-num 8\n"
     ]
    }
   ],
   "source": [
    "\n",
    "folder_path = os.path.join(BASE_PATH, folder_name)\n",
    "\n",
    "\n",
    "print(f\"\"\"\n",
    "bash scripts_general/construct_lucene_index.sh {folder_path}\n",
    "bash scripts_general/evaluate_bm25.sh {folder_path}\n",
    "bash scripts_general/evaluate_dense.sh {folder_path}\n",
    "\n",
    "\"\"\")\n",
    "\n",
    "print(\"================== index\")\n",
    "for i in range(8):\n",
    "    print(f\"conda activate pyserini-dev; bash scripts_general/construct_dense_index_shard.sh {folder_path} {i}\")\n",
    "print(\"===== combine index\")\n",
    "print(f\"python -m pyserini.index.merge_faiss_indexes --prefix {os.path.join(folder_path, 'dense_index', 'index_shard_')} --shard-num 8\")"
   ],
   "metadata": {
    "collapsed": false
   }
  },
  {
   "cell_type": "code",
   "execution_count": 18,
   "outputs": [
    {
     "name": "stderr",
     "output_type": "stream",
     "text": [
      "100%|████████████████████████████████████████████████████████████████████████████████████████████████████████████████████████████████████████████| 32774319/32774319 [25:55<00:00, 21076.71it/s]\n"
     ]
    }
   ],
   "source": [
    "dump_dict = []\n",
    "for passage_id, item in tqdm(doc_lookup_dict.items()):\n",
    "    curr_sent_idx = 0\n",
    "    for sentence in sentence_spliter.tokenize(item['text']):\n",
    "        dump_dict.append({\"id\": f\"{passage_id}_{curr_sent_idx}\", \"contents\": f\"\\n{sentence}\"} )\n",
    "        curr_sent_idx += 1"
   ],
   "metadata": {
    "collapsed": false
   }
  },
  {
   "cell_type": "code",
   "execution_count": 21,
   "outputs": [],
   "source": [
    "data_path = os.path.join(BASE_PATH, folder_name, \"data\", \"documents.jsonl\")\n",
    "with jsonlines.open(data_path, 'w') as writer:\n",
    "    writer.write_all(dump_dict)"
   ],
   "metadata": {
    "collapsed": false
   }
  },
  {
   "cell_type": "markdown",
   "source": [
    "### Sentence (Note: This is an duplicate of the previous)"
   ],
   "metadata": {
    "collapsed": false
   }
  },
  {
   "cell_type": "code",
   "execution_count": 4,
   "outputs": [],
   "source": [
    "import json\n",
    "import csv\n",
    "import jsonlines\n",
    "def load_passage_tsv(tsv_path: str, text_first = True):\n",
    "    \"\"\"\n",
    "    load the tsv of a passage file\n",
    "    \"\"\"\n",
    "    doc_lookup_dict = {}\n",
    "    with open(tsv_path, \"r\", 2 ** 20) as f:\n",
    "        next(f)\n",
    "        f = csv.reader(f, delimiter='\\t', quotechar='\"')\n",
    "        f = (l for l in f if len(l) == 3)\n",
    "        n = 1\n",
    "        for i, text, title in tqdm(f):\n",
    "            if text == title:\n",
    "                continue\n",
    "            i = int(i)\n",
    "\n",
    "            # assert i==n, f\"i=={i}, n=={n}\"\n",
    "            # n+=1\n",
    "            if not text_first:\n",
    "                text, title = title, text\n",
    "            doc_lookup_dict[i] = {\n",
    "                'text': text,\n",
    "                'title': title\n",
    "            }\n",
    "\n",
    "    print(\"Processed total number of docs {}\".format(n))\n",
    "    return doc_lookup_dict\n",
    "import os\n",
    "import csv\n",
    "from tqdm import tqdm\n",
    "import json"
   ],
   "metadata": {
    "collapsed": false
   }
  },
  {
   "cell_type": "code",
   "execution_count": 5,
   "outputs": [
    {
     "name": "stderr",
     "output_type": "stream",
     "text": [
      "32774319it [03:00, 181311.68it/s]"
     ]
    },
    {
     "name": "stdout",
     "output_type": "stream",
     "text": [
      "Processed total number of docs 1\n"
     ]
    },
    {
     "name": "stderr",
     "output_type": "stream",
     "text": [
      "\n"
     ]
    }
   ],
   "source": [
    "tsv_path = \"/home/aiops/zhuty/CS6220/language/paragraph_blocks_en_wiki_20181220/paragraphs.tsv\"\n",
    "doc_lookup_dict = load_passage_tsv(tsv_path, text_first=False)"
   ],
   "metadata": {
    "collapsed": false
   }
  },
  {
   "cell_type": "code",
   "execution_count": 7,
   "outputs": [
    {
     "name": "stderr",
     "output_type": "stream",
     "text": [
      "[nltk_data] Downloading package punkt to /tmp/tmp_t7mu1gm...\n",
      "[nltk_data]   Unzipping tokenizers/punkt.zip.\n"
     ]
    }
   ],
   "source": [
    "import tempfile\n",
    "\n",
    "import nltk\n",
    "def get_sentence_splitter():\n",
    "  temp_dir = tempfile.mkdtemp()\n",
    "  nltk.download(\"punkt\", download_dir=temp_dir)\n",
    "  return nltk.data.load(\n",
    "      os.path.join(temp_dir, \"tokenizers/punkt/english.pickle\"))\n",
    "sentence_spliter = get_sentence_splitter()"
   ],
   "metadata": {
    "collapsed": false
   }
  },
  {
   "cell_type": "code",
   "execution_count": 11,
   "outputs": [
    {
     "name": "stdout",
     "output_type": "stream",
     "text": [
      "mkdir /mnt/cache/zhuty/CS6220_data/pyserini_data/sentence\n",
      "mkdir /mnt/cache/zhuty/CS6220_data/pyserini_data/sentence/dense_index\n",
      "mkdir /mnt/cache/zhuty/CS6220_data/pyserini_data/sentence/lucene_index\n",
      "mkdir /mnt/cache/zhuty/CS6220_data/pyserini_data/sentence/data\n",
      "mkdir /mnt/cache/zhuty/CS6220_data/pyserini_data/sentence/lucene_output\n",
      "mkdir /mnt/cache/zhuty/CS6220_data/pyserini_data/sentence/dense_output\n"
     ]
    }
   ],
   "source": [
    "folder_name = \"sentence\"\n",
    "BASE_PATH = \"/mnt/cache/zhuty/CS6220_data/pyserini_data/\"\n",
    "print(f\"mkdir {os.path.join(BASE_PATH, folder_name)}\")\n",
    "for name in ['dense_index', 'lucene_index', 'data','lucene_output', 'dense_output']:\n",
    "    print(f\"mkdir {os.path.join(BASE_PATH, folder_name, name)}\")"
   ],
   "metadata": {
    "collapsed": false
   }
  },
  {
   "cell_type": "code",
   "execution_count": 10,
   "outputs": [
    {
     "name": "stdout",
     "output_type": "stream",
     "text": [
      "\n",
      "bash scripts_general/construct_lucene_index.sh /mnt/cache/zhuty/CS6220_data/pyserini_data/sentence_no_title\n",
      "bash scripts_general/evaluate_bm25.sh /mnt/cache/zhuty/CS6220_data/pyserini_data/sentence_no_title\n",
      "bash scripts_general/evaluate_dense.sh /mnt/cache/zhuty/CS6220_data/pyserini_data/sentence_no_title\n",
      "\n",
      "\n",
      "================== index\n",
      "conda activate pyserini-dev; bash scripts_general/construct_dense_index_shard.sh /mnt/cache/zhuty/CS6220_data/pyserini_data/sentence_no_title 0\n",
      "conda activate pyserini-dev; bash scripts_general/construct_dense_index_shard.sh /mnt/cache/zhuty/CS6220_data/pyserini_data/sentence_no_title 1\n",
      "conda activate pyserini-dev; bash scripts_general/construct_dense_index_shard.sh /mnt/cache/zhuty/CS6220_data/pyserini_data/sentence_no_title 2\n",
      "conda activate pyserini-dev; bash scripts_general/construct_dense_index_shard.sh /mnt/cache/zhuty/CS6220_data/pyserini_data/sentence_no_title 3\n",
      "conda activate pyserini-dev; bash scripts_general/construct_dense_index_shard.sh /mnt/cache/zhuty/CS6220_data/pyserini_data/sentence_no_title 4\n",
      "conda activate pyserini-dev; bash scripts_general/construct_dense_index_shard.sh /mnt/cache/zhuty/CS6220_data/pyserini_data/sentence_no_title 5\n",
      "conda activate pyserini-dev; bash scripts_general/construct_dense_index_shard.sh /mnt/cache/zhuty/CS6220_data/pyserini_data/sentence_no_title 6\n",
      "conda activate pyserini-dev; bash scripts_general/construct_dense_index_shard.sh /mnt/cache/zhuty/CS6220_data/pyserini_data/sentence_no_title 7\n",
      "===== combine index\n",
      "python -m pyserini.index.merge_faiss_indexes --prefix /mnt/cache/zhuty/CS6220_data/pyserini_data/sentence_no_title/dense_index/index_shard_ --shard-num 8\n",
      "\n",
      "bash scripts_general/construct_lucene_index.sh /mnt/cache/zhuty/CS6220_data/pyserini_data/sentence\n",
      "bash scripts_general/evaluate_bm25.sh /mnt/cache/zhuty/CS6220_data/pyserini_data/sentence\n",
      "bash scripts_general/evaluate_dense.sh /mnt/cache/zhuty/CS6220_data/pyserini_data/sentence\n",
      "\n",
      "\n",
      "================== index\n",
      "conda activate pyserini-dev; bash scripts_general/construct_dense_index_shard.sh /mnt/cache/zhuty/CS6220_data/pyserini_data/sentence 0\n",
      "conda activate pyserini-dev; bash scripts_general/construct_dense_index_shard.sh /mnt/cache/zhuty/CS6220_data/pyserini_data/sentence 1\n",
      "conda activate pyserini-dev; bash scripts_general/construct_dense_index_shard.sh /mnt/cache/zhuty/CS6220_data/pyserini_data/sentence 2\n",
      "conda activate pyserini-dev; bash scripts_general/construct_dense_index_shard.sh /mnt/cache/zhuty/CS6220_data/pyserini_data/sentence 3\n",
      "conda activate pyserini-dev; bash scripts_general/construct_dense_index_shard.sh /mnt/cache/zhuty/CS6220_data/pyserini_data/sentence 4\n",
      "conda activate pyserini-dev; bash scripts_general/construct_dense_index_shard.sh /mnt/cache/zhuty/CS6220_data/pyserini_data/sentence 5\n",
      "conda activate pyserini-dev; bash scripts_general/construct_dense_index_shard.sh /mnt/cache/zhuty/CS6220_data/pyserini_data/sentence 6\n",
      "conda activate pyserini-dev; bash scripts_general/construct_dense_index_shard.sh /mnt/cache/zhuty/CS6220_data/pyserini_data/sentence 7\n",
      "===== combine index\n",
      "python -m pyserini.index.merge_faiss_indexes --prefix /mnt/cache/zhuty/CS6220_data/pyserini_data/sentence/dense_index/index_shard_ --shard-num 8\n"
     ]
    }
   ],
   "source": [
    "\n",
    "folder_path = os.path.join(BASE_PATH, folder_name)\n",
    "\n",
    "\n",
    "print(f\"\"\"\n",
    "bash scripts_general/construct_lucene_index.sh {folder_path}\n",
    "bash scripts_general/evaluate_bm25.sh {folder_path}\n",
    "bash scripts_general/evaluate_dense.sh {folder_path}\n",
    "\n",
    "\"\"\")\n",
    "\n",
    "print(\"================== index\")\n",
    "for i in range(8):\n",
    "    print(f\"conda activate pyserini-dev; bash scripts_general/construct_dense_index_shard.sh {folder_path} {i}\")\n",
    "print(\"===== combine index\")\n",
    "print(f\"python -m pyserini.index.merge_faiss_indexes --prefix {os.path.join(folder_path, 'dense_index', 'index_shard_')} --shard-num 8\")"
   ],
   "metadata": {
    "collapsed": false
   }
  },
  {
   "cell_type": "code",
   "execution_count": null,
   "outputs": [],
   "source": [
    "dump_dict = []\n",
    "for passage_id, item in tqdm(doc_lookup_dict.items()):\n",
    "    curr_sent_idx = 0\n",
    "    title = item['title']\n",
    "    for sentence in sentence_spliter.tokenize(item['text']):\n",
    "        dump_dict.append({\"id\": f\"{passage_id}_{curr_sent_idx}\", \"contents\": f\"{title}\\n{sentence}\"} )\n",
    "        curr_sent_idx += 1"
   ],
   "metadata": {
    "collapsed": false
   }
  },
  {
   "cell_type": "code",
   "execution_count": null,
   "outputs": [],
   "source": [],
   "metadata": {
    "collapsed": false
   }
  },
  {
   "cell_type": "markdown",
   "source": [
    "## Note: The following code is no longer supported"
   ],
   "metadata": {
    "collapsed": false
   }
  },
  {
   "cell_type": "code",
   "execution_count": 14,
   "outputs": [],
   "source": [
    "outpath_lucene = \"/mnt/cache/zhuty/CS6220_data/DPR_orig_title_text_pyserini_lucene/docs.json\"\n",
    "json.dump(dump_dict, open(outpath_lucene, \"w\"))"
   ],
   "metadata": {
    "collapsed": false
   }
  },
  {
   "cell_type": "code",
   "execution_count": 15,
   "outputs": [],
   "source": [
    "dump_dict = [{\"id\": passage_id, \"contents\": f\"{item['text']}\"} for passage_id, item in\n",
    "             doc_lookup_dict.items()]\n"
   ],
   "metadata": {
    "collapsed": false
   }
  },
  {
   "cell_type": "code",
   "execution_count": 16,
   "outputs": [],
   "source": [
    "outpath_lucene = \"/mnt/cache/zhuty/CS6220_data/DPR_orig_text_no_space_pyserini_lucene/docs.json\"\n",
    "json.dump(dump_dict, open(outpath_lucene, \"w\"))"
   ],
   "metadata": {
    "collapsed": false
   }
  },
  {
   "cell_type": "code",
   "execution_count": 9,
   "outputs": [
    {
     "name": "stdout",
     "output_type": "stream",
     "text": [
      "21015324\n"
     ]
    }
   ],
   "source": [
    "\n",
    "import jsonlines\n",
    "\n",
    "outpath = \"/mnt/cache/zhuty/CS6220_data/DPR_original_pyserini.jsonl\"\n",
    "actual = dump_dict\n",
    "print(len(actual))\n",
    "with jsonlines.open(outpath, 'w') as writer:\n",
    "    writer.write_all(actual)"
   ],
   "metadata": {
    "collapsed": false
   }
  },
  {
   "cell_type": "code",
   "execution_count": 11,
   "outputs": [],
   "source": [
    "outpath_lucene = \"/mnt/cache/zhuty/CS6220_data/DPR_orig_pyserin_lucene/docs.json\"\n",
    "json.dump(actual, open(outpath_lucene, \"w\"))"
   ],
   "metadata": {
    "collapsed": false
   }
  },
  {
   "cell_type": "code",
   "execution_count": null,
   "outputs": [],
   "source": [],
   "metadata": {
    "collapsed": false
   }
  },
  {
   "cell_type": "code",
   "execution_count": 8,
   "outputs": [
    {
     "data": {
      "text/plain": "21015324"
     },
     "execution_count": 8,
     "metadata": {},
     "output_type": "execute_result"
    }
   ],
   "source": [
    "len(dump_dict)"
   ],
   "metadata": {
    "collapsed": false
   }
  },
  {
   "cell_type": "code",
   "execution_count": 28,
   "outputs": [
    {
     "name": "stdout",
     "output_type": "stream",
     "text": [
      "20000\n"
     ]
    }
   ],
   "source": [
    "import jsonlines\n",
    "\n",
    "outpath = \"/home/aiops/zhuty/CS6220/DPR_original_test_version.json\"\n",
    "actual = dump_dict[:20000]\n",
    "print(len(actual))\n",
    "with jsonlines.open(outpath, 'w') as writer:\n",
    "    writer.write_all(actual)"
   ],
   "metadata": {
    "collapsed": false
   }
  },
  {
   "cell_type": "code",
   "execution_count": 31,
   "outputs": [],
   "source": [
    "outpath_lucene = \"/home/aiops/zhuty/CS6220/test_DPR_pyserini/docs.json\"\n",
    "json.dump(actual, open(outpath_lucene, \"w\"))"
   ],
   "metadata": {
    "collapsed": false
   }
  },
  {
   "cell_type": "code",
   "execution_count": 23,
   "outputs": [
    {
     "name": "stdout",
     "output_type": "stream",
     "text": [
      "21015324\n"
     ]
    }
   ],
   "source": [
    "import jsonlines\n",
    "\n",
    "outpath = \"/home/aiops/zhuty/CS6220/DPR_original_pyserini_version.json\"\n",
    "actual = dump_dict[:]\n",
    "print(len(actual))\n",
    "with jsonlines.open(outpath, 'w') as writer:\n",
    "    writer.write_all(actual)"
   ],
   "metadata": {
    "collapsed": false
   }
  },
  {
   "cell_type": "markdown",
   "source": [
    "### Paragraph related"
   ],
   "metadata": {
    "collapsed": false
   }
  },
  {
   "cell_type": "code",
   "execution_count": null,
   "outputs": [],
   "source": [],
   "metadata": {
    "collapsed": false
   }
  },
  {
   "cell_type": "code",
   "execution_count": 24,
   "outputs": [
    {
     "name": "stderr",
     "output_type": "stream",
     "text": [
      "38269407it [03:20, 190757.43it/s]\n"
     ]
    },
    {
     "name": "stdout",
     "output_type": "stream",
     "text": [
      "Processed total number of docs 1\n"
     ]
    }
   ],
   "source": [
    "tsv_path = \"/home/aiops/zhuty/CS6220/language/paragraph_blocks_en_wiki_20181220/paragraphs.tsv\"\n",
    "doc_lookup_dict = load_passage_tsv(tsv_path)"
   ],
   "metadata": {
    "collapsed": false
   }
  },
  {
   "cell_type": "code",
   "execution_count": 25,
   "outputs": [
    {
     "name": "stdout",
     "output_type": "stream",
     "text": [
      "32774487\n"
     ]
    }
   ],
   "source": [
    "dump_dict = [{\"id\": passage_id, \"contents\": f\"{item['text']}\\n\"} for passage_id, item in doc_lookup_dict.items()]\n",
    "outpath = \"/home/aiops/zhuty/CS6220/DPR_paragraph_pyserini_version.json\"\n",
    "actual = dump_dict\n",
    "print(len(actual))\n",
    "with jsonlines.open(outpath, 'w') as writer:\n",
    "    writer.write_all(actual)"
   ],
   "metadata": {
    "collapsed": false
   }
  },
  {
   "cell_type": "code",
   "execution_count": null,
   "outputs": [],
   "source": [],
   "metadata": {
    "collapsed": false
   }
  },
  {
   "cell_type": "code",
   "execution_count": 32,
   "outputs": [
    {
     "data": {
      "text/plain": "['a', '', 'b', '', 'c']"
     },
     "execution_count": 32,
     "metadata": {},
     "output_type": "execute_result"
    }
   ],
   "source": [
    "string_a = \"a\\n\\nb\\n\\nc\"\n",
    "string_a.split(\"\\n\")"
   ],
   "metadata": {
    "collapsed": false
   }
  },
  {
   "cell_type": "markdown",
   "source": [
    "Note: The rest of the work is moved to explore_wiki_data.ipynb. This is because instead of reading and then loading, we can directly write the paragraphs."
   ],
   "metadata": {
    "collapsed": false
   }
  }
 ],
 "metadata": {
  "kernelspec": {
   "name": "myenv",
   "language": "python",
   "display_name": "Python (myenv)"
  },
  "language_info": {
   "codemirror_mode": {
    "name": "ipython",
    "version": 2
   },
   "file_extension": ".py",
   "mimetype": "text/x-python",
   "name": "python",
   "nbconvert_exporter": "python",
   "pygments_lexer": "ipython2",
   "version": "2.7.6"
  }
 },
 "nbformat": 4,
 "nbformat_minor": 0
}
