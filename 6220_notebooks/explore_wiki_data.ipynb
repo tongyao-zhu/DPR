{
 "cells": [
  {
   "cell_type": "code",
   "execution_count": 1,
   "metadata": {
    "collapsed": true
   },
   "outputs": [],
   "source": [
    "import json"
   ]
  },
  {
   "cell_type": "code",
   "execution_count": null,
   "outputs": [],
   "source": [],
   "metadata": {
    "collapsed": false
   }
  },
  {
   "cell_type": "code",
   "execution_count": 3,
   "outputs": [],
   "source": [
    "import tensorflow as tf"
   ],
   "metadata": {
    "collapsed": false
   }
  },
  {
   "cell_type": "code",
   "execution_count": 1,
   "outputs": [],
   "source": [
    "records_path = \"/home/aiops/zhuty/CS6220/language/downloaded_en_wiki_20181220/enwiki-20181220/titles.tfr\""
   ],
   "metadata": {
    "collapsed": false
   }
  },
  {
   "cell_type": "code",
   "execution_count": 2,
   "outputs": [],
   "source": [
    "from tqdm import tqdm"
   ],
   "metadata": {
    "collapsed": false
   }
  },
  {
   "cell_type": "code",
   "execution_count": 3,
   "outputs": [
    {
     "ename": "ModuleNotFoundError",
     "evalue": "No module named 'tensorflow'",
     "output_type": "error",
     "traceback": [
      "\u001B[0;31m---------------------------------------------------------------------------\u001B[0m",
      "\u001B[0;31mModuleNotFoundError\u001B[0m                       Traceback (most recent call last)",
      "Cell \u001B[0;32mIn[3], line 1\u001B[0m\n\u001B[0;32m----> 1\u001B[0m \u001B[38;5;28;01mimport\u001B[39;00m \u001B[38;5;21;01mtensorflow\u001B[39;00m \u001B[38;5;28;01mas\u001B[39;00m \u001B[38;5;21;01mtf\u001B[39;00m\n\u001B[1;32m      2\u001B[0m \u001B[38;5;28;01mimport\u001B[39;00m \u001B[38;5;21;01mjson\u001B[39;00m\n\u001B[1;32m      3\u001B[0m \u001B[38;5;28;01mfrom\u001B[39;00m \u001B[38;5;21;01mgoogle\u001B[39;00m\u001B[38;5;21;01m.\u001B[39;00m\u001B[38;5;21;01mprotobuf\u001B[39;00m\u001B[38;5;21;01m.\u001B[39;00m\u001B[38;5;21;01mjson_format\u001B[39;00m \u001B[38;5;28;01mimport\u001B[39;00m MessageToJson\n",
      "\u001B[0;31mModuleNotFoundError\u001B[0m: No module named 'tensorflow'"
     ]
    }
   ],
   "source": [
    "import tensorflow as tf\n",
    "import json\n",
    "from google.protobuf.json_format import MessageToJson\n",
    "\n",
    "dataset = tf.data.TFRecordDataset(records_path)\n",
    "idx_to_title = {}\n",
    "for idx, d in tqdm(enumerate(dataset)):\n",
    "    s = d.numpy()\n",
    "    # a = json.loads(MessageToJson(d))\n",
    "    idx_to_title[idx] = s\n",
    "print(len(idx_to_title))\n",
    "    # ex = tf.train.Example()\n",
    "    # ex.ParseFromString(d.numpy())\n",
    "    # m = json.loads(MessageToJson(ex))\n",
    "    # print(m['features']['feature'].keys())"
   ],
   "metadata": {
    "collapsed": false
   }
  },
  {
   "cell_type": "code",
   "execution_count": 34,
   "outputs": [
    {
     "name": "stderr",
     "output_type": "stream",
     "text": [
      "13353718it [17:59, 12374.32it/s]\n"
     ]
    },
    {
     "name": "stdout",
     "output_type": "stream",
     "text": [
      "13353718\n"
     ]
    }
   ],
   "source": [
    "records_path = \"/home/aiops/zhuty/CS6220/language/downloaded_en_wiki_20181220/enwiki-20181220/blocks.tfr\"\n",
    "dataset = tf.data.TFRecordDataset(records_path)\n",
    "idx_to_blocks = {}\n",
    "for idx, d in tqdm(enumerate(dataset)):\n",
    "    s = d.numpy()\n",
    "    # a = json.loads(MessageToJson(d))\n",
    "    idx_to_blocks[idx] = s\n",
    "print(len(idx_to_blocks))"
   ],
   "metadata": {
    "collapsed": false
   }
  },
  {
   "cell_type": "code",
   "execution_count": 33,
   "outputs": [
    {
     "name": "stderr",
     "output_type": "stream",
     "text": [
      "13353718it [16:45, 13275.02it/s]"
     ]
    },
    {
     "name": "stdout",
     "output_type": "stream",
     "text": [
      "13353718\n"
     ]
    },
    {
     "name": "stderr",
     "output_type": "stream",
     "text": [
      "\n"
     ]
    }
   ],
   "source": [
    "records_path = \"/home/aiops/zhuty/CS6220/language/downloaded_en_wiki_20181220/enwiki-20181220/examples.tfr\"\n",
    "dataset = tf.data.TFRecordDataset(records_path)\n",
    "idx_to_examples = {}\n",
    "for idx, d in tqdm(enumerate(dataset)):\n",
    "    s = d.numpy()\n",
    "    # a = json.loads(MessageToJson(d))\n",
    "    idx_to_examples[idx] = s\n",
    "print(len(idx_to_examples))"
   ],
   "metadata": {
    "collapsed": false
   }
  },
  {
   "cell_type": "code",
   "execution_count": 36,
   "outputs": [
    {
     "data": {
      "text/plain": "b\"HP LaserJet\\n\\nLaserJet as a brand name identifies the line of dry electrophotographic (DEP) laser printers marketed by the American computer company Hewlett-Packard (HP). The HP LaserJet was the world's first desktop laser printer. As of 2016, Canon supplies both mechanisms and cartridges for all HP's laser printers. HP LaserJet printers employ xerographic laser-marking engines sourced from the Japanese company Canon. Due to a very tight turnaround schedule on the first HP LaserJet, HP elected to use the controller already developed by Canon for the CX engine in the first HP LaserJet. The first HP LaserJet and the first Apple LaserWriter used the same print engine, the Canon CX engine. HP chose to use their in-house developed Printer Command Language (PCL) as opposed to Apple, which adopted the PostScript language, as developed by Adobe Systems. The use of a less-ambitious and simpler Page description language allowed HP to deliver its LaserJet to the market about a year before Apple's CX based product, and for $1000 less. The sharing of an identical Canon engine in two competing products continued with the HP LaserJet II/III and the Apple LaserWriter II, which both used the Canon LBP-SX print engine.\""
     },
     "execution_count": 36,
     "metadata": {},
     "output_type": "execute_result"
    }
   ],
   "source": [
    "idx_to_blocks[0]"
   ],
   "metadata": {
    "collapsed": false
   }
  },
  {
   "cell_type": "code",
   "execution_count": 41,
   "outputs": [
    {
     "data": {
      "text/plain": "b'HP LaserJet'"
     },
     "execution_count": 41,
     "metadata": {},
     "output_type": "execute_result"
    }
   ],
   "source": [
    "idx_to_title[0]"
   ],
   "metadata": {
    "collapsed": false
   }
  },
  {
   "cell_type": "code",
   "execution_count": 51,
   "outputs": [
    {
     "data": {
      "text/plain": "5514594"
     },
     "execution_count": 51,
     "metadata": {},
     "output_type": "execute_result"
    }
   ],
   "source": [
    "len(set(idx_to_title.values()))"
   ],
   "metadata": {
    "collapsed": false
   }
  },
  {
   "cell_type": "code",
   "execution_count": 54,
   "outputs": [
    {
     "name": "stdout",
     "output_type": "stream",
     "text": [
      "b'Aaron\\n\\nAaron ( or ; \"Ah\\xc3\\xa4r\\xc3\\xb4n\") is a prophet, high priest, and the brother of Moses in the Abrahamic religions. Knowledge of Aaron, along with his brother Moses, comes exclusively from religious texts, such as the Bible and Quran. The Hebrew Bible relates that, unlike Moses, who grew up in the Egyptian royal court, Aaron and his elder sister Miriam remained with their kinsmen in the eastern border-land of Egypt (Goshen). When Moses first confronted the Egyptian king about the Israelites, Aaron served as his brother\\'s spokesman (\"prophet\") to the Pharaoh. Part of the Law (Torah) that Moses received from God at Sinai granted Aaron the priesthood for himself and his male descendants, and he became the first High Priest of the Israelites. Aaron died before the Israelites crossed the North Jordan river and he was buried on Mount Hor (Numbers 33:39; Deuteronomy 10:6 says he died and was buried at Moserah). Aaron is also mentioned in the New Testament of the Bible. According to the Book of Exodus, Aaron first functioned as Moses\\' assistant. Because Moses complained that he could not speak well, God appointed Aaron as Moses\\' \"prophet\" (Exodus 4:10-17; 7:1). At the command of Moses, he let his rod turn into a snake.'\n",
      "b'Then he stretched out his rod in order to bring on the first three plagues. After that, Moses tended to act and speak for himself. During the journey in the wilderness, Aaron was not always prominent or active. At the battle with Amalek, he was chosen with Hur to support the hand of Moses that held the \"rod of God\". When the revelation was given to Moses at biblical Mount Sinai, he headed the elders of Israel who accompanied Moses on the way to the summit. While Joshua went with Moses to the top, however, Aaron and Hur remained below to look after the people. From here on in Exodus, Leviticus and Numbers, Joshua appears in the role of Moses\\' assistant while Aaron functions instead as the first high priest. The books of Exodus, Leviticus and Numbers maintain that Aaron received from God a monopoly over the priesthood for himself and his male descendants (Exodus 28:1). The family of Aaron had the exclusive right and responsibility to make offerings on the altar to Yahweh. The rest of his tribe, the Levites, were given subordinate responsibilities within the sanctuary (Numbers 3). Moses anointed and consecrated Aaron and his sons to the priesthood, and arrayed them in the robes of office (Leviticus 8; cf. Exodus 28-29).'\n",
      "b'He also related to them God\\'s detailed instructions for performing their duties while the rest of the Israelites listened (Leviticus 1-7, 11-27). Aaron and his successors as high priest were given control over the Urim and Thummim by which the will of God could be determined (Exodus 28:30). God commissioned the Aaronide priests to distinguish the holy from the common and the clean from the unclean, and to teach the divine laws (the Torah) to the Israelites (Leviticus 10:10-11). The priests were also commissioned to bless the people (Numbers 6:22-27). When Aaron completed the altar offerings for the first time and, with Moses, \"blessed the people: and the glory of the appeared unto all the people: And there came a fire out from before the , and consumed upon the altar the burnt offering and the fat [which] when all the people saw, they shouted, and fell on their faces\" (Leviticus 9:23-24). In this way, the institution of the Aaronide priesthood was established. In later books of the Hebrew Bible, Aaron and his kin are not mentioned very often except in literature dating to the Babylonian captivity and later. The books of Judges, Samuel and Kings mention priests and Levites, but do not mention the Aaronides in particular.'\n",
      "b\"The Book of Ezekiel, which devotes much attention to priestly matters, calls the priestly upper class the Zadokites after one of King David's priests. It does reflect a two-tier priesthood with the Levites in subordinate position. A two-tier hierarchy of Aaronides and Levites appears in Ezra, Nehemiah and Chronicles. As a result, many historians think that Aaronide families did not control the priesthood in pre-exilic Israel. What is clear is that high priests claiming Aaronide descent dominated the Second Temple period. Most scholars think the Torah reached its final form early in this period, which may account for Aaron's prominence in Exodus, Leviticus and Numbers. Aaron plays a leading role in several stories of conflicts during Israel's wilderness wanderings. During the prolonged absence of Moses on Mount Sinai, the people provoked Aaron to make a golden calf. (Exodus 32:1-6). This incident nearly caused God to destroy the Israelites (Exodus 32:10). Moses successfully intervened, but then led the loyal Levites in executing many of the culprits; a plague afflicted those who were left (Exodus 32:25-35). Aaron, however, escaped punishment for his role in the affair, because of the intercession of Moses according to Deuteronomy 9:20.\"\n",
      "b'Later retellings of this story almost always excuse Aaron for his role. For example, in rabbinic sources and in the Quran, Aaron was not the idol-maker and upon Moses\\' return begged his pardon because he felt mortally threatened by the Israelites (Quran 7:142-152). On the day of Aaron\\'s consecration, his oldest sons, Nadab and Abihu, were burned up by divine fire because they offered \"strange\" incense (Leviticus 10:1-3). Most interpreters think this story reflects a conflict between priestly families some time in Israel\\'s past. Others argue that the story simply shows what can happen if the priests do not follow God\\'s instructions given through Moses. The Torah generally depicts the siblings, Moses, Aaron, and Miriam, as the leaders of Israel after the Exodus, a view also reflected in the biblical Book of Micah. Numbers 12, however, reports that on one occasion, Aaron and Miriam complained about Moses\\' exclusive claim to be the \\'s prophet. Their presumption was rebuffed by God who affirmed Moses\\' uniqueness as the one with whom the spoke face to face. Miriam was punished with a skin disease (\"tzaraath\") that turned her skin white. Aaron pleaded with Moses to intercede for her, and Miriam, after seven days\\' quarantine, was healed.'\n",
      "b\"Aaron once again escaped any retribution. According to Numbers 16-17, a Levite named Korah led many in challenging Aaron's exclusive claim to the priesthood. When the rebels were punished by being swallowed up by the earth (Numbers 16:25-35), Eleazar, the son of Aaron, was commissioned to take charge of the censers of the dead priests. And when a plague broke out among the people who had sympathized with the rebels, Aaron, at the command of Moses, took his censer and stood between the living and the dead till the plague abated (Numbers 17:1-15, 16:36-50). To emphasize the validity of the Levites' claim to the offerings and tithes of the Israelites, Moses collected a rod from the leaders of each tribe in Israel and laid the twelve rods overnight in the tent of meeting. The next morning, Aaron's rod was found to have budded and blossomed and produced ripe almonds (Numbers 17:8). The following chapter then details the distinction between Aaron's family and the rest of the Levites: while all the Levites (and only Levites) were devoted to the care of the sanctuary, charge of its interior and the altar was committed to the Aaronites alone (Numbers 18:1-7).\"\n",
      "b\"Aaron, like Moses, was not permitted to enter Canaan with the Israelites because the two brothers showed impatience at Meribah (Kadesh) in the last year of the desert pilgrimage (Numbers 20:12-13), when Moses brought water out of a rock to quench the people's thirst. Although they had been commanded to speak to the rock, Moses struck it with the staff twice, which was construed as displaying a lack of deference to the (Numbers 20:7-11). There are two accounts of the death of Aaron in the Torah. Numbers says that soon after the incident at Meribah, Aaron with his son Eleazar and Moses ascended Mount Hor. There Moses stripped Aaron of his priestly garments and transferred them to Eleazar. Aaron died on the summit of the mountain, and the people mourned for him thirty days (Numbers 20:22-29; compare 33:38-39). The other account is found in Deuteronomy 10:6, where Aaron died at Moserah and was buried. There is a significant amount of travel between these two points, as the itinerary in Numbers 33:31\\xe2\\x80\\x9337 records seven stages between Moseroth (Mosera) and Mount Hor. Aaron was 123 at the time of his death.\"\n",
      "b'Aaron married Elisheba, daughter of Amminadab and sister of Nahshon (Exodus 6:23) of the tribe of Judah. The sons of Aaron were Eleazar, Ithamar, and Nadab and Abihu. A descendant of Aaron is an Aaronite, or Kohen, meaning Priest. Any non-Aaronic Levite\\xe2\\x80\\x94i.e., descended from Levi but not from Aaron\\xe2\\x80\\x94assisted the Levitical priests of the family of Aaron in the care of the tabernacle; later of the temple. The Gospel of Luke records that both Zechariah and Elizabeth and therefore their son John the Baptist were descendants of Aaron. The older prophets and prophetical writers beheld in their priests the representatives of a religious form inferior to the prophetic truth; men without the spirit of God and lacking the will-power requisite to resist the multitude in its idolatrous proclivities. Thus Aaron, the first priest, ranks below Moses: he is his mouthpiece, and the executor of the will of God revealed through Moses, although it is pointed out that it is said fifteen times in the Torah that \"the Lord spoke to Moses \"and\" Aaron.\"'\n",
      "b'Under the influence of the priesthood that shaped the destinies of the nation under Persian rule, a different ideal of the priest was formed, according to Malachi 2:4\\xe2\\x80\\x937, and the prevailing tendency was to place Aaron on a footing equal with Moses. \"At times Aaron, and at other times Moses, is mentioned first in Scripture\\xe2\\x80\\x94this is to show that they were of equal rank,\" says the Mekhilta of Rabbi Ishmael, which strongly implies this when introducing in its record of renowned men the glowing description of Aaron\\'s ministration. In fulfilment of the promise of peaceful life, symbolized by the pouring of oil upon his head (Leviticus Rabbah x., Midrash Teh. cxxxiii. 1), Aaron\\'s death, as described in the Haggadah, was of a wonderful tranquility. Accompanied by Moses, his brother, and by Eleazar, his son, Aaron went to the summit of Mount Hor, where the rock suddenly opened before him and a beautiful cave lit by a lamp presented itself to his view. \"Take off thy priestly raiment and place it upon thy son Eleazar!\" said Moses; \"and then follow me.\" Aaron did as commanded; and they entered the cave, where was prepared a bed around which angels stood.'\n",
      "b'\"Go lie down upon thy bed, my brother,\" Moses continued; and Aaron obeyed without a murmur. Then his soul departed as if by a kiss from God. The cave closed behind Moses as he left; and he went down the hill with Eleazar, with garments rent, and crying: \"Alas, Aaron, my brother! thou, the pillar of supplication of Israel!\" When the Israelites cried in bewilderment, \"Where is Aaron?\" angels were seen carrying Aaron\\'s bier through the air. A voice was then heard saying: \"The law of truth was in his mouth, and iniquity was not found on his lips: he walked with me in righteousness, and brought many back from sin\" (Malachi 2:6). He died, according to Seder Olam Rabbah ix., R. H. 2, 3a, on the first of Av. The pillar of cloud which proceeded in front of Israel\\'s camp disappeared at Aaron\\'s death (see Seder Olam, ix. and R. H. 2b-3a). The seeming contradiction between Numbers 20:22 et seq.'\n",
      "b'and Deuteronomy 10:6 is solved by the rabbis in the following manner: Aaron\\'s death on Mount Hor was marked by the defeat of the people in a war with the king of Arad, in consequence of which the Israelites fled, marching seven stations backward to Mosera, where they performed the rites of mourning for Aaron; wherefore it is said: \"There [at Mosera] died Aaron.\" The rabbis also dwell with special laudation on the brotherly sentiment which united Aaron and Moses. When the latter was appointed ruler and Aaron high priest, neither betrayed any jealousy; instead they rejoiced in one another\\'s greatness. When Moses at first declined to go to Pharaoh, saying: \"O my Lord, send, I pray thee, by the hand of him whom thou wilt send\" (Exodus 4:13), he was unwilling to deprive Aaron, his brother, of the high position the latter had held for so many years; but the Lord reassured him, saying: \"Behold, when he seeth thee, he will be glad in his heart\" ().'\n",
      "b'Indeed, Aaron was to find his reward, says Shimon bar Yochai; for that heart which had leaped with joy over his younger brother\\'s rise to glory greater than his was decorated with the Urim and Thummim, which were to \"be upon Aaron\\'s heart when he goeth in before the Lord\" (Canticles Rabbah i. 10). Moses and Aaron met in gladness of heart, kissing each other as true brothers (Exodus 4:27; compare Song of Songs 8:1), and of them it is written: \"Behold how good and how pleasant [it is] for brethren to dwell together in unity!\" (Psalm 133:1). Of them it is said: \"Mercy and truth are met together; righteousness and peace have kissed [each other]\" (Psalms 85:10); for Moses stood for righteousness, according to Deuteronomy 33:21, and Aaron for peace, according to . Again, mercy was personified in Aaron, according to Deuteronomy 33:8, and truth in Moses, according to Numbers 12:7 . When Moses poured the oil of anointment upon the head of Aaron, Aaron modestly shrank back and said: \"Who knows whether I have not cast some blemish upon this sacred oil so as to forfeit this high office.\"'\n",
      "b'Then the Shekhinah spoke the words: \"Behold the precious ointment upon the head, that ran down upon the beard of Aaron, that even went down to the skirts of his garment, is as pure as the dew of Hermon\" () . According to Tanhuma, Aaron\\'s activity as a prophet began earlier than that of Moses. Hillel held Aaron up as an example, saying: \"Be of the disciples of Aaron, loving peace and pursuing peace; love your fellow creatures and draw them nigh unto the Law!\" This is further illustrated by the tradition preserved in Abot de-Rabbi Natan 12, Sanhedrin 6b, and elsewhere, according to which Aaron was an ideal priest of the people, far more beloved for his kindly ways than was Moses. While Moses was stern and uncompromising, brooking no wrong, Aaron went about as peacemaker, reconciling man and wife when he saw them estranged, or a man with his neighbor when they quarreled, and winning evil-doers back into the right way by his friendly intercourse.'\n",
      "b'The mourning of the people at Aaron\\'s death was greater, therefore, than at that of Moses; for whereas, when Aaron died the whole house of Israel wept, including the women, (Numbers 20:29) Moses was bewailed by \"the sons of Israel\" only (Deuteronomy 34:8). Even in the making of the Golden Calf the rabbis find extenuating circumstances for Aaron. His fortitude and silent submission to the will of God on the loss of his two sons are referred to as an excellent example to men how to glorify God in the midst of great affliction. Especially significant are the words represented as being spoken by God after the princes of the Twelve Tribes had brought their dedication offerings into the newly reared Tabernacle: \"Say to thy brother Aaron: Greater than the gifts of the princes is thy gift; for thou art called upon to kindle the light, and, while the sacrifices shall last only as long as the Temple lasts, thy light shall last forever.\" In the Eastern Orthodox and Maronite churches, Aaron is venerated as a saint whose feast day is shared with his brother Moses and celebrated on September 4. (Those churches that follow the traditional Julian Calendar celebrate this day on September 17 of the modern Gregorian Calendar).'\n",
      "b'Aaron is also commemorated with other Old Testament saints on the Sunday of the Holy Fathers, the Sunday before Christmas. Aaron is commemorated as one of the Holy Forefathers in the Calendar of Saints of the Armenian Apostolic Church on July 30. He is commemorated on July 1 in the modern Latin calendar and in the Syriac Calendar. In The Church of Jesus Christ of Latter-day Saints, the Aaronic order is the lesser order of priesthood, comprising the grades (from lowest to highest) of deacon, teacher, and priest. The chief office of the Aaronic priesthood is the presiding bishopric; the head of the priesthood is the bishop. Each ward includes a quorum of one or more of each office of the Aaronic priesthood. In the Community of Christ, the Aaronic order of priesthood is regarded as an appendage to the Melchisedec order, and consists of the priesthood offices of deacon, teacher, and priest. While differing in responsibilities, these offices, along with those of the Melchisidec order, are regarded as equal before God. Aaron (Arabic: \\xd9\\x87\\xd8\\xa7\\xd8\\xb1\\xd9\\x88\\xd9\\x86, \"H\\xc4\\x81r\\xc5\\xabn\") is also mentioned in the Quran as a prophet of God. The Quran praises Aaron repeatedly, calling him a \"believing servant\" as well as one who was \"guided\" and one of the \"victors\".'\n",
      "b'Aaron is important in Islam for his role in the events of the Exodus, in which, according to the Quran and Muslim tradition, he preached with his elder brother, Moses, to the Pharaoh of the Exodus. Aaron\\'s significance in Islam, however, is not limited to his role as the helper of Moses. Islamic tradition also accords Aaron the role of a patriarch, as tradition records that the priestly descent came through Aaron\\'s lineage, which included the entire House of Amran. The Quran contains numerous references to Aaron (Arabic: \\xd9\\x87\\xd9\\x8e\\xd8\\xa7\\xd8\\xb1\\xd9\\x8f\\xd9\\x88\\xd9\\x86 \"H\\xc4\\x81r\\xc5\\xabn\"), both by name and without name. It says that he was a descendant of Abraham (Quran 4: 163) and makes it clear that both he and Moses were sent together to warn the Pharaoh about God\\'s punishment (Quran 10: 75). It further adds that Moses had earlier prayed to God to strengthen his own ministry with Aaron (Quran 20: 29-30) and that Aaron helped Moses as he too was a prophet (Quran 19: 53), and very eloquent in matters of speech and discourse (Quran 28: 34). The Quran adds that both Moses and Aaron were entrusted to establish places of dwelling for the Israelites in Egypt, and to convert those houses into places of worship for God (Quran 10: 87).'\n",
      "b'The incident of the Golden Calf as it is narrated in the Quran paints Aaron in a positive light. The Quran says that Aaron was entrusted the leadership of Israel while Moses was up on \"Tur Sina\\xe2\\x80\\x99\" (, Mount Sinai) for a period of forty days (Quran 7: 142). It adds that Aaron tried his best to stop the worship of the Golden Calf, which was built not by Aaron but by a wicked man by the name of \\'As-Samiri\\' (Quran 19: 50). When Moses returned from Mount Sinai, he rebuked Aaron for allowing the worship of the idol, to which Aaron pleaded with Moses to not blame him when he had no role in its construction (Quran 7: 150). The Quran then adds that Moses here lamented the sins of Israel, and said that he only had power over himself and Aaron (Quran 5: 25). Aaron is later commemorated in the Quran as one who had a \"clear authority\" (Quran 23: 45) and one who was \"guided to the Right Path\" (Quran 37: 118). It further adds that Aaron\\'s memory was left for people who came after him (Quran 37: 119) and he is blessed by God along with his brother (Quran 37: 120).'\n",
      "b'The Quran also says that people called \\xe2\\x80\\x98Isa\\'s mother Maryam (, Mary) a \"sister of Harun\" (Quran 19: 28). Muslim scholars debated as to who exactly this \"Harun\" was in terms of his historical persona, with some saying that it was a reference to Aaron of the Exodus, and the term \"sister\" designating only a metaphorical or spiritual link between the two figures, all the more evident when Mary was a descendant of the priestly lineage of Aaron, while others held it to be another righteous man living at the time of Christ by the name of \"Aaron\". Most scholars have agreed to the former perspective, and have linked Mary spiritually with the actual sister of Aaron, her namesake Miryam (, ), whom she resembled in many ways. The Quran also narrates that, centuries later, when the \"Tabut\" (, Ark of the Covenant) returned to Israel, it contained \"relics from the family of Moses and relics from the family of Aaron\" (Quran 2: 248). Muhammad, in many of his sayings, speaks of Aaron. In the event of the Mi\\'raj, his miraculous ascension through the Heavens, Muhammad is said to have encountered Aaron in the fifth heaven. According to old scholars, including Ibn Hisham, Muhammad, in particular, mentioned the beauty of Aaron when he encountered him in Heaven.'\n",
      "b'Martin Lings, in his biographical \"Muhammad\", speaks of Muhammad\\'s wonderment at seeing fellow prophets in their heavenly glory:\\nAaron was also mentioned by Muhammad in likeness to \\xe2\\x80\\x98Ali. Muhammad had left \\xe2\\x80\\x98Ali to look after his family, but the hypocrites of the time begun to spread the rumor that the prophet found \\xe2\\x80\\x98Ali a burden and was relieved to be rid of his presence. \\xe2\\x80\\x98Ali, grieved at hearing this wicked taunt, told Muhammad what the local people were saying. In reply, the Prophet said: \"They lie, I bade thee remain for the sake of what I had left behind me. So return and represent me in my family and in thine. Art thou not content, O \\xe2\\x80\\x98Ali, that thou should be unto me as Aaron was unto Moses, save that after me there is no prophet.\" According to Islamic tradition, the tomb of Aaron is located on \"Jabal Harun\" (, Mountain of Aaron), near Petra in Jordan. At above sea-level, it is the highest peak in the area; and it is a place of great sanctity to the local people for here. A 14th-century Mamluk mosque stands here with its white dome visible from most areas in and around Petra. Although his father is described as both an apostle and a prophet, Aaron is merely described as a prophet.'\n",
      "b'The Kitab-I-Iqan describes Imran as being his father. Aaron appears paired with Moses frequently in Jewish and Christian art, especially in the illustrations of manuscript and printed Bibles. He can usually be distinguished by his priestly vestments, especially his turban or miter and jeweled breastplate. He frequently holds a censor or, sometimes, his flowering rod. (See at Wikimedia Commons.) Aaron also appears in scenes depicting the wilderness Tabernacle and its altar, as already in the third-century frescos in the synagogue at Dura-Europos in Syria. An eleventh-century portable silver altar from Fulda, Germany depicts Aaron with his censor, and is located in the Mus\\xc3\\xa9e National de l\\xe2\\x80\\x99Age M\\xc3\\xa9di\\xc3\\xa9vale in Paris. This is also how he appears in the frontispieces of early printed Passover Haggadot and occasionally in church sculptures. Aaron has rarely been the subject of portraits, such as those by Anton Kern [1710\\xe2\\x80\\x931747] and by Pier Francesco Mola [c. 1650]. Christian artists sometimes portray Aaron as a prophet (Exod. 7:1) holding a scroll, as in a twelfth-century sculpture from the Cathedral of Noyon in the Metropolitan Museum of Art, New York and often in Eastern Orthodox icons.'\n",
      "b'Illustrations of the Golden Calf story usually include him as well\\xe2\\x80\\x94most notably in Nicolas Poussin\\'s \"The Adoration of the Golden Calf\" (ca. 1633\\xe2\\x80\\x9334, National Gallery London). Finally, some artists interested in validating later priesthoods have painted the ordination of Aaron and his sons (Leviticus 8). Harry Anderson\\'s realistic portrayal is often reproduced in the literature of the Latter Day Saints.'\n"
     ]
    }
   ],
   "source": [
    "for i in idx_to_title:\n",
    "    if idx_to_title[i].decode(\"UTF-8\") == 'Aaron':\n",
    "        print(idx_to_blocks[i])"
   ],
   "metadata": {
    "collapsed": false
   }
  },
  {
   "cell_type": "code",
   "execution_count": 50,
   "outputs": [
    {
     "name": "stderr",
     "output_type": "stream",
     "text": [
      "  0%|                                                                                                                        | 1/13353718 [00:00<19:57, 11155.06it/s]"
     ]
    },
    {
     "name": "stdout",
     "output_type": "stream",
     "text": [
      "HP LaserJet\n",
      "\n",
      "LaserJet as a brand name identifies the line of dry electrophotographic (DEP) laser printers marketed by the American computer company Hewlett-Packard (HP). The HP LaserJet was the world's first desktop laser printer. As of 2016, Canon supplies both mechanisms and cartridges for all HP's laser printers. HP LaserJet printers employ xerographic laser-marking engines sourced from the Japanese company Canon. Due to a very tight turnaround schedule on the first HP LaserJet, HP elected to use the controller already developed by Canon for the CX engine in the first HP LaserJet. The first HP LaserJet and the first Apple LaserWriter used the same print engine, the Canon CX engine. HP chose to use their in-house developed Printer Command Language (PCL) as opposed to Apple, which adopted the PostScript language, as developed by Adobe Systems. The use of a less-ambitious and simpler Page description language allowed HP to deliver its LaserJet to the market about a year before Apple's CX based product, and for $1000 less. The sharing of an identical Canon engine in two competing products continued with the HP LaserJet II/III and the Apple LaserWriter II, which both used the Canon LBP-SX print engine.\n",
      "HP introduced the first laser printer for IBM PC compatible personal computers in May 1984 at the Computer Dealers' Exhibition (COMDEX). It was a 300-dpi, 8 ppm printer that sold for $3,495 with the price reduced to $2,995 in September 1985, and featured an 8 MHz Motorola 68000 processor and could print in a variety of character fonts. It was controlled using PCL3. Due to the high cost of memory, the first LaserJet only had 128 kilobytes of memory, and a portion of that was reserved for use by the controller. The HP LaserJet printer had high print quality, could print horizontally or vertically, and produce graphics. It was ideal for printing memos, letters, and spreadsheets. It was quiet compared to other contemporary printers, so people could talk on the phone while sitting next to the HP LaserJet printer as it was printing. The first LaserJet was a high-speed replacement for text-only daisy wheel impact printers and dot matrix printers. By using control codes it was possible to change the printed text style using font patterns stored in permanent ROM in the printer. Although unsupported by HP, because the Laserjet used the same basic PCL language (PCL Level III) spoken by HP's other printers it was possible to use the Laserjet on HP 3000 multiuser systems.\n"
     ]
    },
    {
     "name": "stderr",
     "output_type": "stream",
     "text": [
      "\n"
     ]
    },
    {
     "ename": "AssertionError",
     "evalue": "Title1 [HP LaserJet], Title2 [HP introduced the first laser printer for IBM PC compatible personal computers in May 1984 at the Computer Dealers' Exhibition (COMDEX). It was a 300-dpi, 8 ppm printer that sold for $3,495 with the price reduced to $2,995 in September 1985, and featured an 8 MHz Motorola 68000 processor and could print in a variety of character fonts. It was controlled using PCL3. Due to the high cost of memory, the first LaserJet only had 128 kilobytes of memory, and a portion of that was reserved for use by the controller. The HP LaserJet printer had high print quality, could print horizontally or vertically, and produce graphics. It was ideal for printing memos, letters, and spreadsheets. It was quiet compared to other contemporary printers, so people could talk on the phone while sitting next to the HP LaserJet printer as it was printing. The first LaserJet was a high-speed replacement for text-only daisy wheel impact printers and dot matrix printers. By using control codes it was possible to change the printed text style using font patterns stored in permanent ROM in the printer. Although unsupported by HP, because the Laserjet used the same basic PCL language (PCL Level III) spoken by HP's other printers it was possible to use the Laserjet on HP 3000 multiuser systems.]",
     "output_type": "error",
     "traceback": [
      "\u001B[0;31m---------------------------------------------------------------------------\u001B[0m",
      "\u001B[0;31mAssertionError\u001B[0m                            Traceback (most recent call last)",
      "\u001B[0;32m/tmp/ipykernel_20868/2746343662.py\u001B[0m in \u001B[0;36m<module>\u001B[0;34m\u001B[0m\n\u001B[1;32m      3\u001B[0m     \u001B[0mprint\u001B[0m\u001B[0;34m(\u001B[0m\u001B[0;34m(\u001B[0m\u001B[0midx_to_blocks\u001B[0m\u001B[0;34m[\u001B[0m\u001B[0mi\u001B[0m\u001B[0;34m]\u001B[0m\u001B[0;34m)\u001B[0m\u001B[0;34m.\u001B[0m\u001B[0mdecode\u001B[0m\u001B[0;34m(\u001B[0m\u001B[0;34m\"UTF-8\"\u001B[0m\u001B[0;34m)\u001B[0m\u001B[0;34m)\u001B[0m\u001B[0;34m\u001B[0m\u001B[0;34m\u001B[0m\u001B[0m\n\u001B[1;32m      4\u001B[0m     \u001B[0mtitle2\u001B[0m \u001B[0;34m=\u001B[0m \u001B[0;34m(\u001B[0m\u001B[0midx_to_blocks\u001B[0m\u001B[0;34m[\u001B[0m\u001B[0mi\u001B[0m\u001B[0;34m]\u001B[0m\u001B[0;34m)\u001B[0m\u001B[0;34m.\u001B[0m\u001B[0mdecode\u001B[0m\u001B[0;34m(\u001B[0m\u001B[0;34m\"UTF-8\"\u001B[0m\u001B[0;34m)\u001B[0m\u001B[0;34m.\u001B[0m\u001B[0msplit\u001B[0m\u001B[0;34m(\u001B[0m\u001B[0;34m\"\\n\\n\"\u001B[0m\u001B[0;34m)\u001B[0m\u001B[0;34m[\u001B[0m\u001B[0;36m0\u001B[0m\u001B[0;34m]\u001B[0m\u001B[0;34m\u001B[0m\u001B[0;34m\u001B[0m\u001B[0m\n\u001B[0;32m----> 5\u001B[0;31m     \u001B[0;32massert\u001B[0m \u001B[0mtitle1\u001B[0m \u001B[0;34m==\u001B[0m \u001B[0mtitle2\u001B[0m\u001B[0;34m,\u001B[0m \u001B[0;34mf\"Title1 [{title1}], Title2 [{title2}]\"\u001B[0m\u001B[0;34m\u001B[0m\u001B[0;34m\u001B[0m\u001B[0m\n\u001B[0m",
      "\u001B[0;31mAssertionError\u001B[0m: Title1 [HP LaserJet], Title2 [HP introduced the first laser printer for IBM PC compatible personal computers in May 1984 at the Computer Dealers' Exhibition (COMDEX). It was a 300-dpi, 8 ppm printer that sold for $3,495 with the price reduced to $2,995 in September 1985, and featured an 8 MHz Motorola 68000 processor and could print in a variety of character fonts. It was controlled using PCL3. Due to the high cost of memory, the first LaserJet only had 128 kilobytes of memory, and a portion of that was reserved for use by the controller. The HP LaserJet printer had high print quality, could print horizontally or vertically, and produce graphics. It was ideal for printing memos, letters, and spreadsheets. It was quiet compared to other contemporary printers, so people could talk on the phone while sitting next to the HP LaserJet printer as it was printing. The first LaserJet was a high-speed replacement for text-only daisy wheel impact printers and dot matrix printers. By using control codes it was possible to change the printed text style using font patterns stored in permanent ROM in the printer. Although unsupported by HP, because the Laserjet used the same basic PCL language (PCL Level III) spoken by HP's other printers it was possible to use the Laserjet on HP 3000 multiuser systems.]"
     ]
    }
   ],
   "source": [
    "for i in tqdm(idx_to_examples):\n",
    "    title1 = (idx_to_title[i]).decode(\"UTF-8\")\n",
    "    print((idx_to_blocks[i]).decode(\"UTF-8\"))\n",
    "    title2 = (idx_to_blocks[i]).decode(\"UTF-8\").split(\"\\n\\n\")[0]\n",
    "    assert title1 == title2, f\"Title1 [{title1}], Title2 [{title2}]\""
   ],
   "metadata": {
    "collapsed": false
   }
  },
  {
   "cell_type": "code",
   "execution_count": null,
   "outputs": [],
   "source": [
    "idx_to_blocks[0]"
   ],
   "metadata": {
    "collapsed": false
   }
  },
  {
   "cell_type": "code",
   "execution_count": null,
   "outputs": [],
   "source": [],
   "metadata": {
    "collapsed": false
   }
  },
  {
   "cell_type": "markdown",
   "source": [
    "## Plans for the experiment\n",
    "Investigate compositionality"
   ],
   "metadata": {
    "collapsed": false
   }
  },
  {
   "cell_type": "markdown",
   "source": [
    "1. Prepare for different encoders (e.g. BM25, raw BERT, DPR with the title).\n",
    "2. retrieval analysis.\n",
    "3. perform clustering"
   ],
   "metadata": {
    "collapsed": false
   }
  },
  {
   "cell_type": "markdown",
   "source": [
    "Training with a different objective."
   ],
   "metadata": {
    "collapsed": false
   }
  },
  {
   "cell_type": "markdown",
   "source": [
    "# Segmenting with natural segments (can use pyserini?)"
   ],
   "metadata": {
    "collapsed": false
   }
  },
  {
   "cell_type": "markdown",
   "source": [
    "pubmed QA? I think it is a stretch goal.\n"
   ],
   "metadata": {
    "collapsed": false
   }
  },
  {
   "cell_type": "markdown",
   "source": [
    "Retrieval with natural segment (use blocks for retrieval)"
   ],
   "metadata": {
    "collapsed": false
   }
  },
  {
   "cell_type": "code",
   "execution_count": null,
   "outputs": [],
   "source": [],
   "metadata": {
    "collapsed": false
   }
  },
  {
   "cell_type": "code",
   "execution_count": null,
   "outputs": [],
   "source": [],
   "metadata": {
    "collapsed": false
   }
  },
  {
   "cell_type": "markdown",
   "source": [
    "### Explore the paragraph segmented tf records"
   ],
   "metadata": {
    "collapsed": false
   }
  },
  {
   "cell_type": "code",
   "execution_count": 9,
   "outputs": [
    {
     "name": "stderr",
     "output_type": "stream",
     "text": [
      "2023-04-10 06:02:52.814091: I tensorflow/core/platform/cpu_feature_guard.cc:182] This TensorFlow binary is optimized to use available CPU instructions in performance-critical operations.\n",
      "To enable the following instructions: AVX2 FMA, in other operations, rebuild TensorFlow with the appropriate compiler flags.\n",
      "2023-04-10 06:02:54.031014: W tensorflow/compiler/tf2tensorrt/utils/py_utils.cc:38] TF-TRT Warning: Could not find TensorRT\n"
     ]
    }
   ],
   "source": [
    "from tqdm import tqdm\n",
    "import tensorflow as tf\n"
   ],
   "metadata": {
    "collapsed": false
   }
  },
  {
   "cell_type": "code",
   "execution_count": 10,
   "outputs": [
    {
     "name": "stderr",
     "output_type": "stream",
     "text": [
      "2023-04-10 06:02:58.726880: I tensorflow/core/common_runtime/gpu/gpu_device.cc:1635] Created device /job:localhost/replica:0/task:0/device:GPU:0 with 9059 MB memory:  -> device: 0, name: NVIDIA A100-SXM4-40GB, pci bus id: 0000:0f:00.0, compute capability: 8.0\n",
      "2023-04-10 06:02:58.729385: I tensorflow/core/common_runtime/gpu/gpu_device.cc:1635] Created device /job:localhost/replica:0/task:0/device:GPU:1 with 38370 MB memory:  -> device: 1, name: NVIDIA A100-SXM4-40GB, pci bus id: 0000:91:00.0, compute capability: 8.0\n",
      "2023-04-10 06:02:58.895080: I tensorflow/core/common_runtime/executor.cc:1197] [/device:CPU:0] (DEBUG INFO) Executor start aborting (this does not indicate an error and you can ignore this message): INVALID_ARGUMENT: You must feed a value for placeholder tensor 'Placeholder/_0' with dtype string and shape [1]\n",
      "\t [[{{node Placeholder/_0}}]]\n",
      "38269408it [52:27, 12157.62it/s]\n"
     ]
    },
    {
     "name": "stdout",
     "output_type": "stream",
     "text": [
      "38269408\n"
     ]
    }
   ],
   "source": [
    "records_path = \"/home/aiops/zhuty/CS6220/language/paragraph_blocks_en_wiki_20181220/blocks.tfr\"\n",
    "dataset = tf.data.TFRecordDataset(records_path)\n",
    "idx_to_blocks = {}\n",
    "for idx, d in tqdm(enumerate(dataset)):\n",
    "    s = d.numpy()\n",
    "    # a = json.loads(MessageToJson(d))\n",
    "    idx_to_blocks[idx] = s\n",
    "print(len(idx_to_blocks))"
   ],
   "metadata": {
    "collapsed": false
   }
  },
  {
   "cell_type": "code",
   "execution_count": null,
   "outputs": [
    {
     "name": "stderr",
     "output_type": "stream",
     "text": [
      "2023-04-10 06:55:26.785397: I tensorflow/core/common_runtime/executor.cc:1197] [/device:CPU:0] (DEBUG INFO) Executor start aborting (this does not indicate an error and you can ignore this message): INVALID_ARGUMENT: You must feed a value for placeholder tensor 'Placeholder/_0' with dtype string and shape [1]\n",
      "\t [[{{node Placeholder/_0}}]]\n",
      "29625010it [39:17, 12772.69it/s]"
     ]
    }
   ],
   "source": [
    "records_path = \"/home/aiops/zhuty/CS6220/language/paragraph_blocks_en_wiki_20181220/titles.tfr\"\n",
    "dataset = tf.data.TFRecordDataset(records_path)\n",
    "idx_to_title = {}\n",
    "for idx, d in tqdm(enumerate(dataset)):\n",
    "    s = d.numpy()\n",
    "    # a = json.loads(MessageToJson(d))\n",
    "    idx_to_title[idx] = s\n",
    "print(len(idx_to_title))"
   ],
   "metadata": {
    "collapsed": false,
    "pycharm": {
     "is_executing": true
    }
   }
  },
  {
   "cell_type": "code",
   "execution_count": null,
   "outputs": [],
   "source": [
    "import csv"
   ],
   "metadata": {
    "collapsed": false,
    "pycharm": {
     "is_executing": true
    }
   }
  },
  {
   "cell_type": "code",
   "execution_count": 17,
   "outputs": [
    {
     "data": {
      "text/plain": "38269408"
     },
     "execution_count": 17,
     "metadata": {},
     "output_type": "execute_result"
    }
   ],
   "source": [
    "len(idx_to_title)"
   ],
   "metadata": {
    "collapsed": false
   }
  },
  {
   "cell_type": "code",
   "execution_count": 18,
   "outputs": [
    {
     "data": {
      "text/plain": "38269408"
     },
     "execution_count": 18,
     "metadata": {},
     "output_type": "execute_result"
    }
   ],
   "source": [
    "len(idx_to_blocks)"
   ],
   "metadata": {
    "collapsed": false
   }
  },
  {
   "cell_type": "code",
   "execution_count": 19,
   "outputs": [
    {
     "data": {
      "text/plain": "5514592"
     },
     "execution_count": 19,
     "metadata": {},
     "output_type": "execute_result"
    }
   ],
   "source": [
    "len(set(idx_to_title.values()))"
   ],
   "metadata": {
    "collapsed": false
   }
  },
  {
   "cell_type": "code",
   "execution_count": 12,
   "outputs": [],
   "source": [
    "# written_lines = 0\n",
    "# with open(\"/home/aiops/zhuty/CS6220/language/paragraph_blocks_en_wiki_20181220/paragraphs.tsv\", \"w\", 2**20) as f_write:\n",
    "#     f_write = csv.writer(f_write, delimiter='\\t', quotechar='\"')\n",
    "#     for idx, block in idx_to_blocks.items():\n",
    "#         title = idx_to_title[idx].decode(\"UTF-8\")\n",
    "#         block = block.decode(\"UTF-8\")\n",
    "#         if block.strip() == title.strip():\n",
    "#             continue\n",
    "#         f_write.writerow([idx, title, block])\n",
    "#         written_lines += 1\n",
    "# print(f\"Written lines {written_lines}\")"
   ],
   "metadata": {
    "collapsed": false
   }
  },
  {
   "cell_type": "code",
   "execution_count": 20,
   "outputs": [],
   "source": [
    "import jsonlines"
   ],
   "metadata": {
    "collapsed": false
   }
  },
  {
   "cell_type": "code",
   "execution_count": null,
   "outputs": [],
   "source": [
    "# write to lucene format\n"
   ],
   "metadata": {
    "collapsed": false
   }
  },
  {
   "cell_type": "code",
   "execution_count": null,
   "outputs": [],
   "source": [],
   "metadata": {
    "collapsed": false
   }
  },
  {
   "cell_type": "code",
   "execution_count": 22,
   "outputs": [
    {
     "name": "stdout",
     "output_type": "stream",
     "text": [
      "38269408\n"
     ]
    }
   ],
   "source": [
    "# write to FAISs format\n",
    "dump_dict = [{\"id\": passage_id, \"contents\": f\"{block}\\n\"} for passage_id, block in idx_to_blocks.items()]\n",
    "outpath = \"/mnt/cache/zhuty/CS6220_data/DPR_paragraph_pyserini_version.jsonl\"\n",
    "actual = dump_dict\n",
    "print(len(actual))\n",
    "with jsonlines.open(outpath, 'w') as writer:\n",
    "    writer.write_all(actual)"
   ],
   "metadata": {
    "collapsed": false
   }
  },
  {
   "cell_type": "code",
   "execution_count": 24,
   "outputs": [],
   "source": [
    "import json"
   ],
   "metadata": {
    "collapsed": false
   }
  },
  {
   "cell_type": "code",
   "execution_count": 26,
   "outputs": [],
   "source": [
    "outpath_lucene = \"/mnt/cache/zhuty/CS6220_data/DPR_paragraph_pyserin_lucene/docs.json\"\n",
    "json.dump(actual, open(outpath_lucene, \"w\"))"
   ],
   "metadata": {
    "collapsed": false
   }
  },
  {
   "cell_type": "code",
   "execution_count": null,
   "outputs": [],
   "source": [],
   "metadata": {
    "collapsed": false
   }
  },
  {
   "cell_type": "markdown",
   "source": [
    "### Analyze the title and paragraph relationships"
   ],
   "metadata": {
    "collapsed": false
   }
  },
  {
   "cell_type": "code",
   "execution_count": 35,
   "outputs": [],
   "source": [
    "from collections import Counter"
   ],
   "metadata": {
    "collapsed": false
   }
  },
  {
   "cell_type": "code",
   "execution_count": 36,
   "outputs": [],
   "source": [
    "title_to_p = {}\n",
    "for idx, block in idx_to_blocks.items():\n",
    "    title = idx_to_title[idx]\n",
    "    if title not in title_to_p:\n",
    "        title_to_p[title] = []\n",
    "    title_to_p[title].append(block)\n"
   ],
   "metadata": {
    "collapsed": false
   }
  },
  {
   "cell_type": "code",
   "execution_count": 37,
   "outputs": [
    {
     "name": "stdout",
     "output_type": "stream",
     "text": [
      "Length frequency counter  Counter({2: 1434310, 3: 816508, 4: 633498, 5: 478561, 6: 374860, 7: 294591, 8: 232490, 9: 183857, 10: 146399, 11: 118436, 12: 98610, 13: 81494, 14: 67679, 15: 56844, 16: 48441, 17: 42050, 18: 35453, 1: 34941, 19: 31055, 20: 27137, 21: 24164, 22: 21248, 23: 18781, 24: 16697, 25: 14986, 26: 13388, 27: 11906, 28: 10973, 29: 9982, 30: 8944, 31: 8191, 32: 7398, 33: 6853, 34: 6311, 35: 5733, 36: 5297, 37: 5034, 38: 4563, 39: 4205, 40: 3889, 41: 3606, 42: 3369, 43: 3256, 44: 2988, 45: 2806, 46: 2606, 47: 2517, 48: 2344, 50: 2070, 49: 2063, 51: 1955, 52: 1875, 53: 1784, 54: 1640, 55: 1498, 56: 1495, 58: 1357, 57: 1275, 59: 1241, 60: 1116, 61: 1082, 62: 1022, 63: 999, 65: 961, 64: 930, 66: 866, 67: 846, 68: 758, 69: 755, 70: 698, 71: 678, 72: 643, 73: 589, 75: 578, 74: 567, 77: 546, 76: 543, 78: 464, 80: 446, 79: 444, 81: 429, 82: 412, 85: 400, 83: 380, 84: 371, 87: 349, 86: 334, 89: 307, 88: 301, 91: 291, 92: 257, 90: 256, 94: 253, 93: 245, 95: 239, 97: 219, 98: 208, 96: 206, 102: 203, 100: 196, 101: 189, 99: 188, 104: 184, 105: 174, 108: 172, 107: 160, 106: 151, 103: 145, 111: 142, 112: 142, 110: 139, 109: 133, 117: 124, 114: 117, 118: 115, 116: 112, 115: 109, 113: 106, 121: 94, 125: 94, 120: 87, 122: 86, 132: 84, 124: 81, 119: 77, 127: 75, 133: 73, 130: 73, 123: 71, 131: 70, 126: 67, 129: 61, 128: 59, 137: 57, 136: 56, 135: 55, 140: 54, 138: 51, 134: 50, 141: 49, 144: 46, 146: 45, 149: 43, 143: 39, 150: 37, 145: 36, 151: 34, 142: 34, 147: 34, 160: 34, 148: 33, 155: 33, 156: 32, 157: 32, 139: 32, 153: 31, 154: 28, 159: 27, 162: 26, 161: 26, 172: 22, 171: 22, 169: 21, 152: 21, 166: 21, 158: 20, 168: 19, 179: 18, 178: 18, 170: 18, 174: 17, 173: 17, 176: 17, 164: 15, 167: 15, 195: 15, 190: 14, 180: 14, 188: 13, 163: 13, 181: 13, 177: 13, 165: 13, 183: 13, 212: 10, 184: 10, 217: 10, 182: 10, 193: 10, 211: 9, 201: 9, 191: 8, 189: 8, 205: 8, 196: 8, 198: 8, 175: 8, 194: 8, 185: 8, 247: 8, 202: 7, 214: 7, 203: 7, 239: 7, 232: 7, 197: 7, 234: 6, 219: 6, 187: 6, 222: 6, 210: 6, 209: 6, 186: 6, 208: 6, 207: 5, 200: 5, 223: 5, 199: 5, 296: 5, 227: 5, 215: 4, 228: 4, 231: 4, 236: 4, 288: 4, 230: 4, 216: 4, 204: 4, 257: 4, 371: 4, 254: 3, 229: 3, 264: 3, 265: 3, 286: 3, 192: 3, 240: 3, 250: 3, 244: 3, 261: 3, 206: 3, 238: 3, 224: 3, 213: 3, 226: 3, 376: 3, 295: 2, 237: 2, 291: 2, 325: 2, 302: 2, 305: 2, 289: 2, 320: 2, 283: 2, 412: 2, 235: 2, 249: 2, 492: 2, 220: 2, 421: 2, 279: 2, 218: 2, 221: 2, 243: 2, 280: 2, 285: 2, 248: 2, 292: 2, 242: 2, 365: 2, 287: 1, 618: 1, 439: 1, 385: 1, 499: 1, 375: 1, 776: 1, 263: 1, 256: 1, 308: 1, 723: 1, 241: 1, 260: 1, 1114: 1, 275: 1, 284: 1, 328: 1, 300: 1, 437: 1, 741: 1, 595: 1, 374: 1, 392: 1, 270: 1, 317: 1, 276: 1, 266: 1, 342: 1, 359: 1, 233: 1, 603: 1, 658: 1, 332: 1, 411: 1, 370: 1, 431: 1, 333: 1, 468: 1, 350: 1, 258: 1, 259: 1, 268: 1, 416: 1, 355: 1, 271: 1, 945: 1, 410: 1, 298: 1, 379: 1, 246: 1, 293: 1, 440: 1, 314: 1, 354: 1, 409: 1, 399: 1, 771: 1, 565: 1, 424: 1, 309: 1, 568: 1, 311: 1, 460: 1, 319: 1, 278: 1, 269: 1, 334: 1, 554: 1, 225: 1, 341: 1, 326: 1, 299: 1, 490: 1, 262: 1, 360: 1, 255: 1, 307: 1, 427: 1, 581: 1, 352: 1, 473: 1, 313: 1, 306: 1, 327: 1, 477: 1, 1048: 1, 588: 1, 321: 1, 338: 1, 253: 1, 353: 1, 252: 1, 336: 1, 337: 1, 281: 1})\n"
     ]
    }
   ],
   "source": [
    "counter = Counter([len(x) for x in title_to_p.values()])\n",
    "print(\"Length frequency counter \", counter)"
   ],
   "metadata": {
    "collapsed": false
   }
  },
  {
   "cell_type": "code",
   "execution_count": 42,
   "outputs": [
    {
     "data": {
      "text/plain": "b'Tallaght Strategy'"
     },
     "execution_count": 42,
     "metadata": {},
     "output_type": "execute_result"
    }
   ],
   "source": [],
   "metadata": {
    "collapsed": false
   }
  },
  {
   "cell_type": "code",
   "execution_count": 45,
   "outputs": [
    {
     "data": {
      "text/plain": "[b'Red-veined darter',\n b'The red-veined darter or nomad (\"Sympetrum fonscolombii\") is a dragonfly of the genus \"Sympetrum\".',\n b'There is genetic and behavioural evidence that \"S. fonscolombii\" is not closely related to the other members of the genus \"Sympetrum\" and it will at some time in the future be removed from this genus.',\n b'\"Sympetrum fonscolombii\" was named under the protonym \" Libellula fonscolombii \" by the Belgian entomologist Edmond de S\\xc3\\xa9lys Longchamps, in 1840, in honor of the French entomologist \\xc3\\x89tienne of Fonscolombe (hence the species name). Its name is sometimes spelt \"fonscolombei\" instead of \"fonscolombii\" but Askew (2004) gives the latter as the correct spelling.',\n b'\"Sympetrum fonscolombii\" is a widespread and common species in much of central and southern Europe including most Mediterranean islands, North Africa, the Middle East, Mongolia, south-western Asia, including the Indian Subcontinent, the Indian Ocean Islands and Sri Lanka. In Europe it is resident in the south of its range but in some years it migrates northward. From the 1990s onwards has increasingly been found in northwest Europe, including Belgium, Sweden, Finland, Poland, Britain and Ireland. It is the only Libellulidae to be found in the Azores and it is also found on the Canary Islands and Madeira.',\n b'It breeds in a wide range of habitats including marshes, lakes, ponds, permanent and seasonal rivers. It is able to recolonize dry areas after a rainfall.',\n b'\"Sympetrum fonscolombii\" can reach a body length of . This species is similar to other \"Sympetrum\" species but a good view with binoculars should give a positive identification, especially with a male.',\n b'Males have a red abdomen, redder than many other \"Sympetrum\" species. The frons and the thorax are red-brown. The eyes are brown above and blue/grey below. The wings have red veins and the wing bases of the hind-wings are yellow. The pterostigma is pale yellow with a border of black veins.',\n b'Female are similar but the abdomen is ochre yellow, not red, with two black lines along each side. The wings have yellow veins at the costa, leading edge and base, not red veins as found in the males. The legs of both sexes are mostly black with some yellow.',\n b'Immature males are like females but often with more red and a single line along each side of the abdomen.',\n b'Male \"S. fonscolombii\" can be mistaken for \"Crocothemis erythraea\" as both are very red dragonflies with yellow bases to the wings, red veins and pale pterostigma. However \"C. erythraea\" has no black on the legs, a broader body and no black on the head. Also \"C. erythraea\" females do not oviposit in tandem. The jizz of these two species is different and with some experience are easy to tell apart.',\n b'\"Sympetrum fonscolombii\" can be seen on the wing throughout the year around the Mediterranean and in the south of its range, however, its main flight period is May to October and it is scarce during the winter months. It is a territorial species with the males often sitting on an exposed perch.',\n b'After copulation the pair stay in tandem for egg laying and pairs can be seen over open water with the female dipping her abdomen into the water depositing eggs. Pairs are known to fly over the sea in tandem dipping into the salt water where the eggs soon perish. The eggs and larvae develop within a few months and \"S. fonscolombii\" unlike most other European dragonflies has more than one generation a year. Some larvae overwinter.']"
     },
     "execution_count": 45,
     "metadata": {},
     "output_type": "execute_result"
    }
   ],
   "source": [
    "title = list(title_to_p.keys())[2]"
   ],
   "metadata": {
    "collapsed": false
   }
  },
  {
   "cell_type": "code",
   "execution_count": 40,
   "outputs": [
    {
     "data": {
      "text/plain": "<Figure size 640x480 with 1 Axes>",
      "image/png": "[encoded data removed]"
     },
     "metadata": {},
     "output_type": "display_data"
    }
   ],
   "source": [
    "import matplotlib.pyplot as plt\n",
    "# Get a list of the dictionary values\n",
    "values_list = list([len(x) for x in title_to_p.values()])\n",
    "# Plot a histogram of the values\n",
    "plt.hist(values_list, bins = 25 )\n",
    "# Show the plot\n",
    "plt.show()"
   ],
   "metadata": {
    "collapsed": false
   }
  }
 ],
 "metadata": {
  "kernelspec": {
   "name": "myenv",
   "language": "python",
   "display_name": "Python (myenv)"
  },
  "language_info": {
   "codemirror_mode": {
    "name": "ipython",
    "version": 2
   },
   "file_extension": ".py",
   "mimetype": "text/x-python",
   "name": "python",
   "nbconvert_exporter": "python",
   "pygments_lexer": "ipython2",
   "version": "2.7.6"
  }
 },
 "nbformat": 4,
 "nbformat_minor": 0
}
